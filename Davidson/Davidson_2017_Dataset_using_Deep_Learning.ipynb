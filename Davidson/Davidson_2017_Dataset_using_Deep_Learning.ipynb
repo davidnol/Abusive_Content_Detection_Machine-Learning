{
  "nbformat": 4,
  "nbformat_minor": 0,
  "metadata": {
    "colab": {
      "name": "Davidson 2017 Dataset using Deep Learning.ipynb",
      "provenance": [],
      "collapsed_sections": [],
      "machine_shape": "hm"
    },
    "kernelspec": {
      "name": "python3",
      "display_name": "Python 3"
    },
    "language_info": {
      "name": "python"
    },
    "gpuClass": "standard",
    "accelerator": "GPU"
  },
  "cells": [
    {
      "cell_type": "code",
      "execution_count": null,
      "metadata": {
        "colab": {
          "base_uri": "https://localhost:8080/"
        },
        "id": "tjgDYRq2kXWM",
        "outputId": "20b61658-7459-4847-8f76-59e27ded731a"
      },
      "outputs": [
        {
          "output_type": "stream",
          "name": "stdout",
          "text": [
            "Looking in indexes: https://pypi.org/simple, https://us-python.pkg.dev/colab-wheels/public/simple/\n",
            "Requirement already satisfied: vaderSentiment in /usr/local/lib/python3.7/dist-packages (3.3.2)\n",
            "Requirement already satisfied: requests in /usr/local/lib/python3.7/dist-packages (from vaderSentiment) (2.23.0)\n",
            "Requirement already satisfied: urllib3!=1.25.0,!=1.25.1,<1.26,>=1.21.1 in /usr/local/lib/python3.7/dist-packages (from requests->vaderSentiment) (1.24.3)\n",
            "Requirement already satisfied: certifi>=2017.4.17 in /usr/local/lib/python3.7/dist-packages (from requests->vaderSentiment) (2022.6.15)\n",
            "Requirement already satisfied: idna<3,>=2.5 in /usr/local/lib/python3.7/dist-packages (from requests->vaderSentiment) (2.10)\n",
            "Requirement already satisfied: chardet<4,>=3.0.2 in /usr/local/lib/python3.7/dist-packages (from requests->vaderSentiment) (3.0.4)\n"
          ]
        }
      ],
      "source": [
        "!pip install vaderSentiment"
      ]
    },
    {
      "cell_type": "code",
      "source": [
        "!pip install textstat"
      ],
      "metadata": {
        "colab": {
          "base_uri": "https://localhost:8080/"
        },
        "id": "yIpE2LSPzy2i",
        "outputId": "709dedd6-7047-4c1e-d481-d8981c2b9df7"
      },
      "execution_count": null,
      "outputs": [
        {
          "output_type": "stream",
          "name": "stdout",
          "text": [
            "Looking in indexes: https://pypi.org/simple, https://us-python.pkg.dev/colab-wheels/public/simple/\n",
            "Requirement already satisfied: textstat in /usr/local/lib/python3.7/dist-packages (0.7.3)\n",
            "Requirement already satisfied: pyphen in /usr/local/lib/python3.7/dist-packages (from textstat) (0.12.0)\n"
          ]
        }
      ]
    },
    {
      "cell_type": "code",
      "source": [
        "import pandas as pd\n",
        "import numpy as np\n",
        "import pickle\n",
        "import sys\n",
        "from sklearn.feature_extraction.text import TfidfVectorizer\n",
        "import nltk\n",
        "from nltk.stem.porter import *\n",
        "import string\n",
        "import re\n",
        "from vaderSentiment.vaderSentiment import SentimentIntensityAnalyzer as VS\n",
        "from textstat.textstat import *\n",
        "from sklearn.linear_model import LogisticRegression\n",
        "from sklearn import model_selection, naive_bayes, svm\n",
        "from sklearn.metrics import accuracy_score\n",
        "from sklearn.metrics import confusion_matrix\n",
        "import matplotlib.pyplot as plt\n",
        "import matplotlib as mpl\n",
        "import seaborn as sns\n",
        "from sklearn.feature_selection import SelectFromModel\n",
        "from sklearn.metrics import classification_report\n",
        "from sklearn.svm import LinearSVC\n",
        "from sklearn.base import TransformerMixin, BaseEstimator\n",
        "from statsmodels.tsa.seasonal import seasonal_decompose\n",
        "from sklearn.preprocessing import MinMaxScaler\n",
        "from sklearn import metrics\n",
        "from sklearn.metrics import r2_score\n",
        "from sklearn.metrics import mean_squared_error\n",
        "from sklearn.model_selection import train_test_split\n",
        "import matplotlib.pyplot as plt\n",
        "import seaborn\n",
        "from matplotlib import pyplot as plt\n",
        "%matplotlib inline\n",
        "import numpy\n",
        "from keras.models import Sequential\n",
        "from keras.layers import Dense\n",
        "from keras.layers import LSTM\n",
        "from keras.layers import Masking\n",
        "from keras.layers.convolutional import Conv1D\n",
        "from keras.layers.convolutional import MaxPooling1D\n",
        "from keras.layers.embeddings import Embedding\n",
        "from keras.preprocessing import sequence\n",
        "from keras.preprocessing.text import Tokenizer\n",
        "from keras.layers import Dense, Dropout, Activation\n",
        "from keras.layers import Embedding\n",
        "from keras.layers import Convolution1D, MaxPooling1D\n",
        "from keras.wrappers.scikit_learn import KerasClassifier\n",
        "from keras.regularizers import l2\n",
        "from tensorflow.keras.optimizers import SGD\n",
        "from keras.wrappers.scikit_learn import KerasRegressor\n",
        "import tensorflow as tf\n",
        "from tensorflow import keras\n",
        "np.random.seed(42)\n",
        "tf.random.set_seed(42)"
      ],
      "metadata": {
        "colab": {
          "base_uri": "https://localhost:8080/"
        },
        "id": "DeikLeudzzAH",
        "outputId": "4ed64e5b-0da8-487b-92e0-5307c6035263"
      },
      "execution_count": null,
      "outputs": [
        {
          "output_type": "stream",
          "name": "stderr",
          "text": [
            "/usr/local/lib/python3.7/dist-packages/statsmodels/tools/_testing.py:19: FutureWarning: pandas.util.testing is deprecated. Use the functions in the public API at pandas.testing instead.\n",
            "  import pandas.util.testing as tm\n"
          ]
        }
      ]
    },
    {
      "cell_type": "code",
      "source": [
        "nltk.download('stopwords')"
      ],
      "metadata": {
        "colab": {
          "base_uri": "https://localhost:8080/"
        },
        "id": "MNhLRSgxoDV9",
        "outputId": "bc321336-7fe5-4060-f259-24bc6212b436"
      },
      "execution_count": null,
      "outputs": [
        {
          "output_type": "stream",
          "name": "stderr",
          "text": [
            "[nltk_data] Downloading package stopwords to /root/nltk_data...\n",
            "[nltk_data]   Package stopwords is already up-to-date!\n"
          ]
        },
        {
          "output_type": "execute_result",
          "data": {
            "text/plain": [
              "True"
            ]
          },
          "metadata": {},
          "execution_count": 6
        }
      ]
    },
    {
      "cell_type": "code",
      "source": [
        "nltk.download('averaged_perceptron_tagger')"
      ],
      "metadata": {
        "colab": {
          "base_uri": "https://localhost:8080/"
        },
        "id": "KffUeVsPoDce",
        "outputId": "2b9f923c-b826-4127-8300-a555a71564a4"
      },
      "execution_count": null,
      "outputs": [
        {
          "output_type": "stream",
          "name": "stderr",
          "text": [
            "[nltk_data] Downloading package averaged_perceptron_tagger to\n",
            "[nltk_data]     /root/nltk_data...\n",
            "[nltk_data]   Package averaged_perceptron_tagger is already up-to-\n",
            "[nltk_data]       date!\n"
          ]
        },
        {
          "output_type": "execute_result",
          "data": {
            "text/plain": [
              "True"
            ]
          },
          "metadata": {},
          "execution_count": 7
        }
      ]
    },
    {
      "cell_type": "code",
      "source": [
        "df = pd.read_csv(\"/content/sample_data/labeled_data.csv\")"
      ],
      "metadata": {
        "id": "2njB-i73lWHZ"
      },
      "execution_count": null,
      "outputs": []
    },
    {
      "cell_type": "code",
      "source": [
        "df.head()"
      ],
      "metadata": {
        "colab": {
          "base_uri": "https://localhost:8080/",
          "height": 206
        },
        "id": "Jw0_42MvlWKg",
        "outputId": "684cbb7a-0986-4bce-fb0b-f9b07765ba56"
      },
      "execution_count": null,
      "outputs": [
        {
          "output_type": "execute_result",
          "data": {
            "text/plain": [
              "   Unnamed: 0  count  hate_speech  offensive_language  neither  class  \\\n",
              "0           0      3            0                   0        3      2   \n",
              "1           1      3            0                   3        0      1   \n",
              "2           2      3            0                   3        0      1   \n",
              "3           3      3            0                   2        1      1   \n",
              "4           4      6            0                   6        0      1   \n",
              "\n",
              "                                               tweet  \n",
              "0  !!! RT @mayasolovely: As a woman you shouldn't...  \n",
              "1  !!!!! RT @mleew17: boy dats cold...tyga dwn ba...  \n",
              "2  !!!!!!! RT @UrKindOfBrand Dawg!!!! RT @80sbaby...  \n",
              "3  !!!!!!!!! RT @C_G_Anderson: @viva_based she lo...  \n",
              "4  !!!!!!!!!!!!! RT @ShenikaRoberts: The shit you...  "
            ],
            "text/html": [
              "\n",
              "  <div id=\"df-6244793a-9858-4a61-84fc-5acc66352537\">\n",
              "    <div class=\"colab-df-container\">\n",
              "      <div>\n",
              "<style scoped>\n",
              "    .dataframe tbody tr th:only-of-type {\n",
              "        vertical-align: middle;\n",
              "    }\n",
              "\n",
              "    .dataframe tbody tr th {\n",
              "        vertical-align: top;\n",
              "    }\n",
              "\n",
              "    .dataframe thead th {\n",
              "        text-align: right;\n",
              "    }\n",
              "</style>\n",
              "<table border=\"1\" class=\"dataframe\">\n",
              "  <thead>\n",
              "    <tr style=\"text-align: right;\">\n",
              "      <th></th>\n",
              "      <th>Unnamed: 0</th>\n",
              "      <th>count</th>\n",
              "      <th>hate_speech</th>\n",
              "      <th>offensive_language</th>\n",
              "      <th>neither</th>\n",
              "      <th>class</th>\n",
              "      <th>tweet</th>\n",
              "    </tr>\n",
              "  </thead>\n",
              "  <tbody>\n",
              "    <tr>\n",
              "      <th>0</th>\n",
              "      <td>0</td>\n",
              "      <td>3</td>\n",
              "      <td>0</td>\n",
              "      <td>0</td>\n",
              "      <td>3</td>\n",
              "      <td>2</td>\n",
              "      <td>!!! RT @mayasolovely: As a woman you shouldn't...</td>\n",
              "    </tr>\n",
              "    <tr>\n",
              "      <th>1</th>\n",
              "      <td>1</td>\n",
              "      <td>3</td>\n",
              "      <td>0</td>\n",
              "      <td>3</td>\n",
              "      <td>0</td>\n",
              "      <td>1</td>\n",
              "      <td>!!!!! RT @mleew17: boy dats cold...tyga dwn ba...</td>\n",
              "    </tr>\n",
              "    <tr>\n",
              "      <th>2</th>\n",
              "      <td>2</td>\n",
              "      <td>3</td>\n",
              "      <td>0</td>\n",
              "      <td>3</td>\n",
              "      <td>0</td>\n",
              "      <td>1</td>\n",
              "      <td>!!!!!!! RT @UrKindOfBrand Dawg!!!! RT @80sbaby...</td>\n",
              "    </tr>\n",
              "    <tr>\n",
              "      <th>3</th>\n",
              "      <td>3</td>\n",
              "      <td>3</td>\n",
              "      <td>0</td>\n",
              "      <td>2</td>\n",
              "      <td>1</td>\n",
              "      <td>1</td>\n",
              "      <td>!!!!!!!!! RT @C_G_Anderson: @viva_based she lo...</td>\n",
              "    </tr>\n",
              "    <tr>\n",
              "      <th>4</th>\n",
              "      <td>4</td>\n",
              "      <td>6</td>\n",
              "      <td>0</td>\n",
              "      <td>6</td>\n",
              "      <td>0</td>\n",
              "      <td>1</td>\n",
              "      <td>!!!!!!!!!!!!! RT @ShenikaRoberts: The shit you...</td>\n",
              "    </tr>\n",
              "  </tbody>\n",
              "</table>\n",
              "</div>\n",
              "      <button class=\"colab-df-convert\" onclick=\"convertToInteractive('df-6244793a-9858-4a61-84fc-5acc66352537')\"\n",
              "              title=\"Convert this dataframe to an interactive table.\"\n",
              "              style=\"display:none;\">\n",
              "        \n",
              "  <svg xmlns=\"http://www.w3.org/2000/svg\" height=\"24px\"viewBox=\"0 0 24 24\"\n",
              "       width=\"24px\">\n",
              "    <path d=\"M0 0h24v24H0V0z\" fill=\"none\"/>\n",
              "    <path d=\"M18.56 5.44l.94 2.06.94-2.06 2.06-.94-2.06-.94-.94-2.06-.94 2.06-2.06.94zm-11 1L8.5 8.5l.94-2.06 2.06-.94-2.06-.94L8.5 2.5l-.94 2.06-2.06.94zm10 10l.94 2.06.94-2.06 2.06-.94-2.06-.94-.94-2.06-.94 2.06-2.06.94z\"/><path d=\"M17.41 7.96l-1.37-1.37c-.4-.4-.92-.59-1.43-.59-.52 0-1.04.2-1.43.59L10.3 9.45l-7.72 7.72c-.78.78-.78 2.05 0 2.83L4 21.41c.39.39.9.59 1.41.59.51 0 1.02-.2 1.41-.59l7.78-7.78 2.81-2.81c.8-.78.8-2.07 0-2.86zM5.41 20L4 18.59l7.72-7.72 1.47 1.35L5.41 20z\"/>\n",
              "  </svg>\n",
              "      </button>\n",
              "      \n",
              "  <style>\n",
              "    .colab-df-container {\n",
              "      display:flex;\n",
              "      flex-wrap:wrap;\n",
              "      gap: 12px;\n",
              "    }\n",
              "\n",
              "    .colab-df-convert {\n",
              "      background-color: #E8F0FE;\n",
              "      border: none;\n",
              "      border-radius: 50%;\n",
              "      cursor: pointer;\n",
              "      display: none;\n",
              "      fill: #1967D2;\n",
              "      height: 32px;\n",
              "      padding: 0 0 0 0;\n",
              "      width: 32px;\n",
              "    }\n",
              "\n",
              "    .colab-df-convert:hover {\n",
              "      background-color: #E2EBFA;\n",
              "      box-shadow: 0px 1px 2px rgba(60, 64, 67, 0.3), 0px 1px 3px 1px rgba(60, 64, 67, 0.15);\n",
              "      fill: #174EA6;\n",
              "    }\n",
              "\n",
              "    [theme=dark] .colab-df-convert {\n",
              "      background-color: #3B4455;\n",
              "      fill: #D2E3FC;\n",
              "    }\n",
              "\n",
              "    [theme=dark] .colab-df-convert:hover {\n",
              "      background-color: #434B5C;\n",
              "      box-shadow: 0px 1px 3px 1px rgba(0, 0, 0, 0.15);\n",
              "      filter: drop-shadow(0px 1px 2px rgba(0, 0, 0, 0.3));\n",
              "      fill: #FFFFFF;\n",
              "    }\n",
              "  </style>\n",
              "\n",
              "      <script>\n",
              "        const buttonEl =\n",
              "          document.querySelector('#df-6244793a-9858-4a61-84fc-5acc66352537 button.colab-df-convert');\n",
              "        buttonEl.style.display =\n",
              "          google.colab.kernel.accessAllowed ? 'block' : 'none';\n",
              "\n",
              "        async function convertToInteractive(key) {\n",
              "          const element = document.querySelector('#df-6244793a-9858-4a61-84fc-5acc66352537');\n",
              "          const dataTable =\n",
              "            await google.colab.kernel.invokeFunction('convertToInteractive',\n",
              "                                                     [key], {});\n",
              "          if (!dataTable) return;\n",
              "\n",
              "          const docLinkHtml = 'Like what you see? Visit the ' +\n",
              "            '<a target=\"_blank\" href=https://colab.research.google.com/notebooks/data_table.ipynb>data table notebook</a>'\n",
              "            + ' to learn more about interactive tables.';\n",
              "          element.innerHTML = '';\n",
              "          dataTable['output_type'] = 'display_data';\n",
              "          await google.colab.output.renderOutput(dataTable, element);\n",
              "          const docLink = document.createElement('div');\n",
              "          docLink.innerHTML = docLinkHtml;\n",
              "          element.appendChild(docLink);\n",
              "        }\n",
              "      </script>\n",
              "    </div>\n",
              "  </div>\n",
              "  "
            ]
          },
          "metadata": {},
          "execution_count": 9
        }
      ]
    },
    {
      "cell_type": "code",
      "source": [
        "df.describe()"
      ],
      "metadata": {
        "colab": {
          "base_uri": "https://localhost:8080/",
          "height": 300
        },
        "id": "_-O9glZWlWM2",
        "outputId": "5450c166-05e5-498c-c454-b36141edd172"
      },
      "execution_count": null,
      "outputs": [
        {
          "output_type": "execute_result",
          "data": {
            "text/plain": [
              "         Unnamed: 0         count   hate_speech  offensive_language  \\\n",
              "count  24783.000000  24783.000000  24783.000000        24783.000000   \n",
              "mean   12681.192027      3.243473      0.280515            2.413711   \n",
              "std     7299.553863      0.883060      0.631851            1.399459   \n",
              "min        0.000000      3.000000      0.000000            0.000000   \n",
              "25%     6372.500000      3.000000      0.000000            2.000000   \n",
              "50%    12703.000000      3.000000      0.000000            3.000000   \n",
              "75%    18995.500000      3.000000      0.000000            3.000000   \n",
              "max    25296.000000      9.000000      7.000000            9.000000   \n",
              "\n",
              "            neither         class  \n",
              "count  24783.000000  24783.000000  \n",
              "mean       0.549247      1.110277  \n",
              "std        1.113299      0.462089  \n",
              "min        0.000000      0.000000  \n",
              "25%        0.000000      1.000000  \n",
              "50%        0.000000      1.000000  \n",
              "75%        0.000000      1.000000  \n",
              "max        9.000000      2.000000  "
            ],
            "text/html": [
              "\n",
              "  <div id=\"df-71894c9e-77a8-4464-973b-08c0e8634f1f\">\n",
              "    <div class=\"colab-df-container\">\n",
              "      <div>\n",
              "<style scoped>\n",
              "    .dataframe tbody tr th:only-of-type {\n",
              "        vertical-align: middle;\n",
              "    }\n",
              "\n",
              "    .dataframe tbody tr th {\n",
              "        vertical-align: top;\n",
              "    }\n",
              "\n",
              "    .dataframe thead th {\n",
              "        text-align: right;\n",
              "    }\n",
              "</style>\n",
              "<table border=\"1\" class=\"dataframe\">\n",
              "  <thead>\n",
              "    <tr style=\"text-align: right;\">\n",
              "      <th></th>\n",
              "      <th>Unnamed: 0</th>\n",
              "      <th>count</th>\n",
              "      <th>hate_speech</th>\n",
              "      <th>offensive_language</th>\n",
              "      <th>neither</th>\n",
              "      <th>class</th>\n",
              "    </tr>\n",
              "  </thead>\n",
              "  <tbody>\n",
              "    <tr>\n",
              "      <th>count</th>\n",
              "      <td>24783.000000</td>\n",
              "      <td>24783.000000</td>\n",
              "      <td>24783.000000</td>\n",
              "      <td>24783.000000</td>\n",
              "      <td>24783.000000</td>\n",
              "      <td>24783.000000</td>\n",
              "    </tr>\n",
              "    <tr>\n",
              "      <th>mean</th>\n",
              "      <td>12681.192027</td>\n",
              "      <td>3.243473</td>\n",
              "      <td>0.280515</td>\n",
              "      <td>2.413711</td>\n",
              "      <td>0.549247</td>\n",
              "      <td>1.110277</td>\n",
              "    </tr>\n",
              "    <tr>\n",
              "      <th>std</th>\n",
              "      <td>7299.553863</td>\n",
              "      <td>0.883060</td>\n",
              "      <td>0.631851</td>\n",
              "      <td>1.399459</td>\n",
              "      <td>1.113299</td>\n",
              "      <td>0.462089</td>\n",
              "    </tr>\n",
              "    <tr>\n",
              "      <th>min</th>\n",
              "      <td>0.000000</td>\n",
              "      <td>3.000000</td>\n",
              "      <td>0.000000</td>\n",
              "      <td>0.000000</td>\n",
              "      <td>0.000000</td>\n",
              "      <td>0.000000</td>\n",
              "    </tr>\n",
              "    <tr>\n",
              "      <th>25%</th>\n",
              "      <td>6372.500000</td>\n",
              "      <td>3.000000</td>\n",
              "      <td>0.000000</td>\n",
              "      <td>2.000000</td>\n",
              "      <td>0.000000</td>\n",
              "      <td>1.000000</td>\n",
              "    </tr>\n",
              "    <tr>\n",
              "      <th>50%</th>\n",
              "      <td>12703.000000</td>\n",
              "      <td>3.000000</td>\n",
              "      <td>0.000000</td>\n",
              "      <td>3.000000</td>\n",
              "      <td>0.000000</td>\n",
              "      <td>1.000000</td>\n",
              "    </tr>\n",
              "    <tr>\n",
              "      <th>75%</th>\n",
              "      <td>18995.500000</td>\n",
              "      <td>3.000000</td>\n",
              "      <td>0.000000</td>\n",
              "      <td>3.000000</td>\n",
              "      <td>0.000000</td>\n",
              "      <td>1.000000</td>\n",
              "    </tr>\n",
              "    <tr>\n",
              "      <th>max</th>\n",
              "      <td>25296.000000</td>\n",
              "      <td>9.000000</td>\n",
              "      <td>7.000000</td>\n",
              "      <td>9.000000</td>\n",
              "      <td>9.000000</td>\n",
              "      <td>2.000000</td>\n",
              "    </tr>\n",
              "  </tbody>\n",
              "</table>\n",
              "</div>\n",
              "      <button class=\"colab-df-convert\" onclick=\"convertToInteractive('df-71894c9e-77a8-4464-973b-08c0e8634f1f')\"\n",
              "              title=\"Convert this dataframe to an interactive table.\"\n",
              "              style=\"display:none;\">\n",
              "        \n",
              "  <svg xmlns=\"http://www.w3.org/2000/svg\" height=\"24px\"viewBox=\"0 0 24 24\"\n",
              "       width=\"24px\">\n",
              "    <path d=\"M0 0h24v24H0V0z\" fill=\"none\"/>\n",
              "    <path d=\"M18.56 5.44l.94 2.06.94-2.06 2.06-.94-2.06-.94-.94-2.06-.94 2.06-2.06.94zm-11 1L8.5 8.5l.94-2.06 2.06-.94-2.06-.94L8.5 2.5l-.94 2.06-2.06.94zm10 10l.94 2.06.94-2.06 2.06-.94-2.06-.94-.94-2.06-.94 2.06-2.06.94z\"/><path d=\"M17.41 7.96l-1.37-1.37c-.4-.4-.92-.59-1.43-.59-.52 0-1.04.2-1.43.59L10.3 9.45l-7.72 7.72c-.78.78-.78 2.05 0 2.83L4 21.41c.39.39.9.59 1.41.59.51 0 1.02-.2 1.41-.59l7.78-7.78 2.81-2.81c.8-.78.8-2.07 0-2.86zM5.41 20L4 18.59l7.72-7.72 1.47 1.35L5.41 20z\"/>\n",
              "  </svg>\n",
              "      </button>\n",
              "      \n",
              "  <style>\n",
              "    .colab-df-container {\n",
              "      display:flex;\n",
              "      flex-wrap:wrap;\n",
              "      gap: 12px;\n",
              "    }\n",
              "\n",
              "    .colab-df-convert {\n",
              "      background-color: #E8F0FE;\n",
              "      border: none;\n",
              "      border-radius: 50%;\n",
              "      cursor: pointer;\n",
              "      display: none;\n",
              "      fill: #1967D2;\n",
              "      height: 32px;\n",
              "      padding: 0 0 0 0;\n",
              "      width: 32px;\n",
              "    }\n",
              "\n",
              "    .colab-df-convert:hover {\n",
              "      background-color: #E2EBFA;\n",
              "      box-shadow: 0px 1px 2px rgba(60, 64, 67, 0.3), 0px 1px 3px 1px rgba(60, 64, 67, 0.15);\n",
              "      fill: #174EA6;\n",
              "    }\n",
              "\n",
              "    [theme=dark] .colab-df-convert {\n",
              "      background-color: #3B4455;\n",
              "      fill: #D2E3FC;\n",
              "    }\n",
              "\n",
              "    [theme=dark] .colab-df-convert:hover {\n",
              "      background-color: #434B5C;\n",
              "      box-shadow: 0px 1px 3px 1px rgba(0, 0, 0, 0.15);\n",
              "      filter: drop-shadow(0px 1px 2px rgba(0, 0, 0, 0.3));\n",
              "      fill: #FFFFFF;\n",
              "    }\n",
              "  </style>\n",
              "\n",
              "      <script>\n",
              "        const buttonEl =\n",
              "          document.querySelector('#df-71894c9e-77a8-4464-973b-08c0e8634f1f button.colab-df-convert');\n",
              "        buttonEl.style.display =\n",
              "          google.colab.kernel.accessAllowed ? 'block' : 'none';\n",
              "\n",
              "        async function convertToInteractive(key) {\n",
              "          const element = document.querySelector('#df-71894c9e-77a8-4464-973b-08c0e8634f1f');\n",
              "          const dataTable =\n",
              "            await google.colab.kernel.invokeFunction('convertToInteractive',\n",
              "                                                     [key], {});\n",
              "          if (!dataTable) return;\n",
              "\n",
              "          const docLinkHtml = 'Like what you see? Visit the ' +\n",
              "            '<a target=\"_blank\" href=https://colab.research.google.com/notebooks/data_table.ipynb>data table notebook</a>'\n",
              "            + ' to learn more about interactive tables.';\n",
              "          element.innerHTML = '';\n",
              "          dataTable['output_type'] = 'display_data';\n",
              "          await google.colab.output.renderOutput(dataTable, element);\n",
              "          const docLink = document.createElement('div');\n",
              "          docLink.innerHTML = docLinkHtml;\n",
              "          element.appendChild(docLink);\n",
              "        }\n",
              "      </script>\n",
              "    </div>\n",
              "  </div>\n",
              "  "
            ]
          },
          "metadata": {},
          "execution_count": 10
        }
      ]
    },
    {
      "cell_type": "code",
      "source": [
        "tweets=df.tweet"
      ],
      "metadata": {
        "id": "YF_y7x6mlWPN"
      },
      "execution_count": null,
      "outputs": []
    },
    {
      "cell_type": "code",
      "source": [
        "### Feature Generation"
      ],
      "metadata": {
        "id": "RjddKoOFlWRB"
      },
      "execution_count": null,
      "outputs": []
    },
    {
      "cell_type": "code",
      "source": [
        "stopwords=stopwords = nltk.corpus.stopwords.words(\"english\")\n",
        "\n",
        "other_exclusions = [\"#ff\", \"ff\", \"rt\"]\n",
        "stopwords.extend(other_exclusions)\n",
        "\n",
        "stemmer = PorterStemmer()\n",
        "\n",
        "\n",
        "def preprocess(text_string):\n",
        "    \"\"\"\n",
        "    Accepts a text string and replaces:\n",
        "    1) urls with URLHERE\n",
        "    2) lots of whitespace with one instance\n",
        "    3) mentions with MENTIONHERE\n",
        "\n",
        "    This allows us to get standardized counts of urls and mentions\n",
        "    Without caring about specific people mentioned\n",
        "    \"\"\"\n",
        "    space_pattern = '\\s+'\n",
        "    giant_url_regex = ('http[s]?://(?:[a-zA-Z]|[0-9]|[$-_@.&+]|'\n",
        "        '[!*\\(\\),]|(?:%[0-9a-fA-F][0-9a-fA-F]))+')\n",
        "    mention_regex = '@[\\w\\-]+'\n",
        "    parsed_text = re.sub(space_pattern, ' ', text_string)\n",
        "    parsed_text = re.sub(giant_url_regex, '', parsed_text)\n",
        "    parsed_text = re.sub(mention_regex, '', parsed_text)\n",
        "    return parsed_text\n",
        "\n",
        "def tokenize(tweet):\n",
        "    \"\"\"Removes punctuation & excess whitespace, sets to lowercase,\n",
        "    and stems tweets. Returns a list of stemmed tokens.\"\"\"\n",
        "    tweet = \" \".join(re.split(\"[^a-zA-Z]*\", tweet.lower())).strip()\n",
        "    tokens = [stemmer.stem(t) for t in tweet.split()]\n",
        "    return tokens\n",
        "\n",
        "def basic_tokenize(tweet):\n",
        "    \"\"\"Same as tokenize but without the stemming\"\"\"\n",
        "    tweet = \" \".join(re.split(\"[^a-zA-Z.,!?]*\", tweet.lower())).strip()\n",
        "    return tweet.split()\n",
        "\n",
        "vectorizer = TfidfVectorizer(\n",
        "    tokenizer=tokenize,\n",
        "    preprocessor=preprocess,\n",
        "    ngram_range=(1, 3),\n",
        "    stop_words=stopwords,\n",
        "    use_idf=True,\n",
        "    smooth_idf=False,\n",
        "    norm=None,\n",
        "    decode_error='replace',\n",
        "    max_features=10000,\n",
        "    min_df=5,\n",
        "    max_df=0.75\n",
        "    )"
      ],
      "metadata": {
        "id": "lSKOZR9DlWTG"
      },
      "execution_count": null,
      "outputs": []
    },
    {
      "cell_type": "code",
      "source": [
        "import warnings\n",
        "warnings.simplefilter(action='ignore', category=FutureWarning)"
      ],
      "metadata": {
        "id": "gDPIMJg8lWXR"
      },
      "execution_count": null,
      "outputs": []
    },
    {
      "cell_type": "code",
      "source": [
        "#Construct tfidf matrix and get relevant scores\n",
        "tfidf = vectorizer.fit_transform(tweets).toarray()\n",
        "vocab = {v:i for i, v in enumerate(vectorizer.get_feature_names())}\n",
        "idf_vals = vectorizer.idf_\n",
        "idf_dict = {i:idf_vals[i] for i in vocab.values()} #keys are indices; values are IDF scores"
      ],
      "metadata": {
        "colab": {
          "base_uri": "https://localhost:8080/"
        },
        "id": "eYCs9kPLlWZX",
        "outputId": "8d735e17-ae57-45bc-d4f7-dbff56b35600"
      },
      "execution_count": null,
      "outputs": [
        {
          "output_type": "stream",
          "name": "stderr",
          "text": [
            "/usr/local/lib/python3.7/dist-packages/sklearn/feature_extraction/text.py:401: UserWarning: Your stop_words may be inconsistent with your preprocessing. Tokenizing the stop words generated tokens ['b', 'c', 'e', 'f', 'g', 'h', 'j', 'l', 'n', 'p', 'r', 'u', 'v', 'w'] not in stop_words.\n",
            "  % sorted(inconsistent)\n"
          ]
        }
      ]
    },
    {
      "cell_type": "code",
      "source": [
        "#Get POS tags for tweets and save as a string\n",
        "tweet_tags = []\n",
        "for t in tweets:\n",
        "    tokens = basic_tokenize(preprocess(t))\n",
        "    tags = nltk.pos_tag(tokens)\n",
        "    tag_list = [x[1] for x in tags]\n",
        "    tag_str = \" \".join(tag_list)\n",
        "    tweet_tags.append(tag_str)"
      ],
      "metadata": {
        "id": "07W7au2tlWbu"
      },
      "execution_count": null,
      "outputs": []
    },
    {
      "cell_type": "code",
      "source": [
        "#We can use the TFIDF vectorizer to get a token matrix for the POS tags\n",
        "pos_vectorizer = TfidfVectorizer(\n",
        "    tokenizer=None,\n",
        "    lowercase=False,\n",
        "    preprocessor=None,\n",
        "    ngram_range=(1, 3),\n",
        "    stop_words=None,\n",
        "    use_idf=False,\n",
        "    smooth_idf=False,\n",
        "    norm=None,\n",
        "    decode_error='replace',\n",
        "    max_features=5000,\n",
        "    min_df=5,\n",
        "    max_df=0.75,\n",
        "    )"
      ],
      "metadata": {
        "id": "SXspOPP0lWeK"
      },
      "execution_count": null,
      "outputs": []
    },
    {
      "cell_type": "code",
      "source": [
        "#Construct POS TF matrix and get vocab dict\n",
        "pos = pos_vectorizer.fit_transform(pd.Series(tweet_tags)).toarray()\n",
        "pos_vocab = {v:i for i, v in enumerate(pos_vectorizer.get_feature_names())}"
      ],
      "metadata": {
        "id": "nOEyU8B6lWfm"
      },
      "execution_count": null,
      "outputs": []
    },
    {
      "cell_type": "code",
      "source": [
        "#Now get other features\n",
        "sentiment_analyzer = VS()\n",
        "\n",
        "def count_twitter_objs(text_string):\n",
        "    \"\"\"\n",
        "    Accepts a text string and replaces:\n",
        "    1) urls with URLHERE\n",
        "    2) lots of whitespace with one instance\n",
        "    3) mentions with MENTIONHERE\n",
        "    4) hashtags with HASHTAGHERE\n",
        "\n",
        "    This allows us to get standardized counts of urls and mentions\n",
        "    Without caring about specific people mentioned.\n",
        "    \n",
        "    Returns counts of urls, mentions, and hashtags.\n",
        "    \"\"\"\n",
        "    space_pattern = '\\s+'\n",
        "    giant_url_regex = ('http[s]?://(?:[a-zA-Z]|[0-9]|[$-_@.&+]|'\n",
        "        '[!*\\(\\),]|(?:%[0-9a-fA-F][0-9a-fA-F]))+')\n",
        "    mention_regex = '@[\\w\\-]+'\n",
        "    hashtag_regex = '#[\\w\\-]+'\n",
        "    parsed_text = re.sub(space_pattern, ' ', text_string)\n",
        "    parsed_text = re.sub(giant_url_regex, 'URLHERE', parsed_text)\n",
        "    parsed_text = re.sub(mention_regex, 'MENTIONHERE', parsed_text)\n",
        "    parsed_text = re.sub(hashtag_regex, 'HASHTAGHERE', parsed_text)\n",
        "    return(parsed_text.count('URLHERE'),parsed_text.count('MENTIONHERE'),parsed_text.count('HASHTAGHERE'))\n",
        "\n",
        "def other_features(tweet):\n",
        "    \"\"\"This function takes a string and returns a list of features.\n",
        "    These include Sentiment scores, Text and Readability scores,\n",
        "    as well as Twitter specific features\"\"\"\n",
        "    sentiment = sentiment_analyzer.polarity_scores(tweet)\n",
        "    \n",
        "    words = preprocess(tweet) #Get text only\n",
        "    \n",
        "    syllables = textstat.syllable_count(words)\n",
        "    num_chars = sum(len(w) for w in words)\n",
        "    num_chars_total = len(tweet)\n",
        "    num_terms = len(tweet.split())\n",
        "    num_words = len(words.split())\n",
        "    avg_syl = round(float((syllables+0.001))/float(num_words+0.001),4)\n",
        "    num_unique_terms = len(set(words.split()))\n",
        "    \n",
        "    ###Modified FK grade, where avg words per sentence is just num words/1\n",
        "    FKRA = round(float(0.39 * float(num_words)/1.0) + float(11.8 * avg_syl) - 15.59,1)\n",
        "    ##Modified FRE score, where sentence fixed to 1\n",
        "    FRE = round(206.835 - 1.015*(float(num_words)/1.0) - (84.6*float(avg_syl)),2)\n",
        "    \n",
        "    twitter_objs = count_twitter_objs(tweet)\n",
        "    retweet = 0\n",
        "    if \"rt\" in words:\n",
        "        retweet = 1\n",
        "    features = [FKRA, FRE,syllables, avg_syl, num_chars, num_chars_total, num_terms, num_words,\n",
        "                num_unique_terms, sentiment['neg'], sentiment['pos'], sentiment['neu'], sentiment['compound'],\n",
        "                twitter_objs[2], twitter_objs[1],\n",
        "                twitter_objs[0], retweet]\n",
        "    #features = pandas.DataFrame(features)\n",
        "    return features\n",
        "\n",
        "def get_feature_array(tweets):\n",
        "    feats=[]\n",
        "    for t in tweets:\n",
        "        feats.append(other_features(t))\n",
        "    return np.array(feats)"
      ],
      "metadata": {
        "id": "xwqepT5zlWjy"
      },
      "execution_count": null,
      "outputs": []
    },
    {
      "cell_type": "code",
      "source": [
        "other_features_names = [\"FKRA\", \"FRE\",\"num_syllables\", \"avg_syl_per_word\", \"num_chars\", \"num_chars_total\", \\\n",
        "                        \"num_terms\", \"num_words\", \"num_unique_words\", \"vader neg\",\"vader pos\",\"vader neu\", \\\n",
        "                        \"vader compound\", \"num_hashtags\", \"num_mentions\", \"num_urls\", \"is_retweet\"]"
      ],
      "metadata": {
        "id": "fP08hWcUl1Z2"
      },
      "execution_count": null,
      "outputs": []
    },
    {
      "cell_type": "code",
      "source": [
        "feats = get_feature_array(tweets)"
      ],
      "metadata": {
        "id": "F19eTA6Ul1c9"
      },
      "execution_count": null,
      "outputs": []
    },
    {
      "cell_type": "code",
      "source": [
        "#Now join them all up\n",
        "M = np.concatenate([tfidf,pos,feats],axis=1)"
      ],
      "metadata": {
        "id": "b_ZZDta8l1fk"
      },
      "execution_count": null,
      "outputs": []
    },
    {
      "cell_type": "code",
      "source": [
        "M.shape"
      ],
      "metadata": {
        "colab": {
          "base_uri": "https://localhost:8080/"
        },
        "id": "-II63-8Hl1iL",
        "outputId": "700e01ee-bf39-4a49-d83c-f12a80b39a0b"
      },
      "execution_count": null,
      "outputs": [
        {
          "output_type": "execute_result",
          "data": {
            "text/plain": [
              "(24783, 4023)"
            ]
          },
          "metadata": {},
          "execution_count": 23
        }
      ]
    },
    {
      "cell_type": "code",
      "source": [
        "#Finally get a list of variable names\n",
        "variables = ['']*len(vocab)\n",
        "for k,v in vocab.items():\n",
        "    variables[v] = k\n",
        "\n",
        "pos_variables = ['']*len(pos_vocab)\n",
        "for k,v in pos_vocab.items():\n",
        "    pos_variables[v] = k\n",
        "\n",
        "feature_names = variables+pos_variables+other_features_names"
      ],
      "metadata": {
        "id": "lWMnyG4gl1kx"
      },
      "execution_count": null,
      "outputs": []
    },
    {
      "cell_type": "code",
      "source": [
        "### Model Setup"
      ],
      "metadata": {
        "id": "H0Bxjsa_lWmo"
      },
      "execution_count": null,
      "outputs": []
    },
    {
      "cell_type": "code",
      "source": [
        "# Suppressing Warnings:\n",
        "import warnings\n",
        "warnings.filterwarnings(\"ignore\")"
      ],
      "metadata": {
        "id": "_KhluWl4mA9_"
      },
      "execution_count": null,
      "outputs": []
    },
    {
      "cell_type": "code",
      "source": [
        "X = pd.DataFrame(M)\n",
        "y = df['class'].astype(int)"
      ],
      "metadata": {
        "id": "e3MAFp1vmBAl"
      },
      "execution_count": null,
      "outputs": []
    },
    {
      "cell_type": "code",
      "source": [
        "X_train, X_test, y_train, y_test = train_test_split(X, y, random_state=0)"
      ],
      "metadata": {
        "id": "YYDENaxq3lpQ"
      },
      "execution_count": null,
      "outputs": []
    },
    {
      "cell_type": "code",
      "source": [
        "print(X_train.shape)\n",
        "print(X_test.shape)\n",
        "print(y_test.shape)\n",
        "print(y_train.shape)"
      ],
      "metadata": {
        "colab": {
          "base_uri": "https://localhost:8080/"
        },
        "id": "h1od8G1g8DWC",
        "outputId": "057d1769-f30b-4413-934f-a86fc98ae477"
      },
      "execution_count": null,
      "outputs": [
        {
          "output_type": "stream",
          "name": "stdout",
          "text": [
            "(18587, 4023)\n",
            "(6196, 4023)\n",
            "(6196,)\n",
            "(18587,)\n"
          ]
        }
      ]
    },
    {
      "cell_type": "code",
      "source": [
        "X_train.fillna(method=\"pad\", inplace=True)\n",
        "X_test.fillna(method=\"pad\", inplace=True)\n",
        "y_train.fillna(method=\"pad\", inplace=True)\n",
        "y_test.fillna(method=\"pad\", inplace=True)"
      ],
      "metadata": {
        "id": "ZBBoUoPeBQkH"
      },
      "execution_count": null,
      "outputs": []
    },
    {
      "cell_type": "code",
      "source": [
        "scaler = MinMaxScaler()\n",
        "X_train_scaled = scaler.fit_transform(X_train)\n",
        "X_test_scaled = scaler.fit_transform(X_test)\n",
        "y_train_scaled = scaler.fit_transform(y_train.values.reshape(-1,1))\n",
        "y_test_scaled = scaler.fit_transform(y_test.values.reshape(-1,1))"
      ],
      "metadata": {
        "id": "AwlYZJ-ZEyBT"
      },
      "execution_count": null,
      "outputs": []
    },
    {
      "cell_type": "code",
      "source": [
        " def create_RNN_Data(X_train_scaled, X_test_scaled, y_train_scaled, y_test_scaled, seq_len = 5):\n",
        "    y_train, y_test = np.array(y_train_scaled)[seq_len-1:], np.array(y_test_scaled)[seq_len-1:]\n",
        "    X_train = np.zeros((X_train_scaled.shape[0]+1-seq_len, seq_len, X_train_scaled.shape[1]))\n",
        "    X_test = np.zeros((X_test_scaled.shape[0]+1-seq_len, seq_len, X_test_scaled.shape[1]))\n",
        "    for i in range(seq_len):\n",
        "        X_train[:, i, :] = np.array(X_train_scaled)[i:X_train_scaled.shape[0]+i+1-seq_len, :]\n",
        "        X_test[:, i, :] = np.array(X_test_scaled)[i:X_test_scaled.shape[0]+i+1-seq_len, :]\n",
        "    return X_train, X_test, y_train, y_test"
      ],
      "metadata": {
        "id": "5NX5RMbWFmoH"
      },
      "execution_count": null,
      "outputs": []
    },
    {
      "cell_type": "code",
      "source": [
        "X_train, X_test, y_train, y_test = create_RNN_Data(X_train_scaled, X_test_scaled, y_train_scaled, y_test_scaled)"
      ],
      "metadata": {
        "id": "H7Tj5B7rFmu6"
      },
      "execution_count": null,
      "outputs": []
    },
    {
      "cell_type": "code",
      "source": [
        "print(X_train.shape)\n",
        "print(X_test.shape)\n",
        "print(y_test.shape)\n",
        "print(y_train.shape)"
      ],
      "metadata": {
        "id": "Y0w_G1WLGfgY",
        "colab": {
          "base_uri": "https://localhost:8080/"
        },
        "outputId": "9d1cac31-6d64-4543-d0d1-f0dcaebff8e6"
      },
      "execution_count": null,
      "outputs": [
        {
          "output_type": "stream",
          "name": "stdout",
          "text": [
            "(18583, 5, 4023)\n",
            "(6192, 5, 4023)\n",
            "(6192, 1)\n",
            "(18583, 1)\n"
          ]
        }
      ]
    },
    {
      "cell_type": "code",
      "source": [
        "simple_RNN = keras.models.Sequential([\n",
        "    keras.layers.SimpleRNN(1, input_shape=[5, 4023])\n",
        "])\n",
        "\n",
        "optimizer = keras.optimizers.Adam(learning_rate=0.001)"
      ],
      "metadata": {
        "id": "_6s_1A9pJGAp"
      },
      "execution_count": null,
      "outputs": []
    },
    {
      "cell_type": "code",
      "source": [
        "simple_RNN.summary()"
      ],
      "metadata": {
        "id": "ikfxMAduYPd0",
        "colab": {
          "base_uri": "https://localhost:8080/"
        },
        "outputId": "fcca14eb-f5a1-467d-b877-7716d587b38c"
      },
      "execution_count": null,
      "outputs": [
        {
          "output_type": "stream",
          "name": "stdout",
          "text": [
            "Model: \"sequential\"\n",
            "_________________________________________________________________\n",
            " Layer (type)                Output Shape              Param #   \n",
            "=================================================================\n",
            " simple_rnn (SimpleRNN)      (None, 1)                 4025      \n",
            "                                                                 \n",
            "=================================================================\n",
            "Total params: 4,025\n",
            "Trainable params: 4,025\n",
            "Non-trainable params: 0\n",
            "_________________________________________________________________\n"
          ]
        }
      ]
    },
    {
      "cell_type": "code",
      "source": [
        "simple_RNN.compile(loss=\"mse\", optimizer=optimizer)\n",
        "history_simple_rnn = simple_RNN.fit(X_train, y_train, epochs=3,\n",
        "                    validation_data=(X_test, y_test))"
      ],
      "metadata": {
        "id": "CwWXroTVYQfo",
        "colab": {
          "base_uri": "https://localhost:8080/"
        },
        "outputId": "afa8a535-cb39-474e-b762-2734f1bed5d1"
      },
      "execution_count": null,
      "outputs": [
        {
          "output_type": "stream",
          "name": "stdout",
          "text": [
            "Epoch 1/3\n",
            "581/581 [==============================] - 8s 10ms/step - loss: 0.0544 - val_loss: 0.0503\n",
            "Epoch 2/3\n",
            "581/581 [==============================] - 5s 9ms/step - loss: 0.0433 - val_loss: 0.0492\n",
            "Epoch 3/3\n",
            "581/581 [==============================] - 5s 9ms/step - loss: 0.0399 - val_loss: 0.0472\n"
          ]
        }
      ]
    },
    {
      "cell_type": "code",
      "source": [
        "scores = simple_RNN.evaluate(X_test, y_test, verbose=0)\n",
        "print(\"Accuracy: %.2f%%\" % (scores*100))"
      ],
      "metadata": {
        "id": "DMEa0D5ZJRVq",
        "colab": {
          "base_uri": "https://localhost:8080/"
        },
        "outputId": "9613a532-1438-4582-ca5c-541c319d4254"
      },
      "execution_count": null,
      "outputs": [
        {
          "output_type": "stream",
          "name": "stdout",
          "text": [
            "Accuracy: 4.72%\n"
          ]
        }
      ]
    },
    {
      "cell_type": "code",
      "source": [
        "# Error Metrics\n",
        "from sklearn.metrics import mean_squared_error\n",
        "error_Training_simple_RNN = mean_squared_error(y_train, simple_RNN.predict(X_train))\n",
        "simple_RNN_predicted = simple_RNN.predict(X_test)\n",
        "error_Test_simple_RNN = mean_squared_error(y_test,simple_RNN_predicted)"
      ],
      "metadata": {
        "id": "HapT3WukbLzE"
      },
      "execution_count": null,
      "outputs": []
    },
    {
      "cell_type": "code",
      "source": [
        "rmse = metrics.mean_squared_error(y_test,simple_RNN_predicted)\n",
        "print ('Root Mean Squared Error:',rmse)\n",
        "print('Accuracy rs : {}'.format(r2_score(y_test, simple_RNN_predicted)))"
      ],
      "metadata": {
        "id": "NLzn2C4gbA2S",
        "colab": {
          "base_uri": "https://localhost:8080/"
        },
        "outputId": "512e04e0-aab6-4318-b983-56de478215fa"
      },
      "execution_count": null,
      "outputs": [
        {
          "output_type": "stream",
          "name": "stdout",
          "text": [
            "Root Mean Squared Error: 0.04724532065446159\n",
            "Accuracy rs : 0.11334586699153204\n"
          ]
        }
      ]
    },
    {
      "cell_type": "markdown",
      "source": [
        "Getting a negative R2 score here which means I have no error in my regression. An R2 of 0 would mean my regression is no better than taking the mean value, i.e. not using any information from the other variables. A Negative R2 means my model is doing worse than the mean value. Falk and Miller (1992) recommended that R2 values should be equal to or greater than 0.10 in order for the variance explained of a particular endogenous construct to be deemed adequate."
      ],
      "metadata": {
        "id": "7rq44BaXcYb4"
      }
    },
    {
      "cell_type": "code",
      "source": [
        "def plot_learning_curves(loss, val_loss):\n",
        "    plt.plot(np.arange(len(loss)) + 0.5, loss, \"b.-\", label=\"Training loss\")\n",
        "    plt.plot(np.arange(len(val_loss)) + 1, val_loss, \"r.-\", label=\"Validation loss\")\n",
        "    plt.gca().xaxis.set_major_locator(mpl.ticker.MaxNLocator(integer=True))\n",
        "    plt.axis([1, 10, 0, 0.20])\n",
        "    plt.legend(fontsize=14)\n",
        "    plt.xlabel(\"Epochs\")\n",
        "    plt.ylabel(\"Loss\")\n",
        "    plt.grid(True)\n",
        "\n",
        "plot_learning_curves(history_simple_rnn.history[\"loss\"], history_simple_rnn.history[\"val_loss\"])\n",
        "plt.show()"
      ],
      "metadata": {
        "id": "r2eUFjrkJRdf",
        "colab": {
          "base_uri": "https://localhost:8080/",
          "height": 283
        },
        "outputId": "4a915ff1-8469-4c5c-b9e8-a50b51caaee1"
      },
      "execution_count": null,
      "outputs": [
        {
          "output_type": "display_data",
          "data": {
            "text/plain": [
              "<Figure size 432x288 with 1 Axes>"
            ],
            "image/png": "[encoded data removed]"
          },
          "metadata": {
            "needs_background": "light"
          }
        }
      ]
    },
    {
      "cell_type": "code",
      "source": [
        "Deep_RNN = keras.models.Sequential([\n",
        "    keras.layers.SimpleRNN(20, return_sequences=True, input_shape=[5,4023]),\n",
        "    keras.layers.SimpleRNN(20, return_sequences=True),\n",
        "    keras.layers.SimpleRNN(1)\n",
        "])"
      ],
      "metadata": {
        "id": "NzhitKJoEyD5"
      },
      "execution_count": null,
      "outputs": []
    },
    {
      "cell_type": "code",
      "source": [
        "Deep_RNN.summary()"
      ],
      "metadata": {
        "id": "LhIk-vusNT9y",
        "colab": {
          "base_uri": "https://localhost:8080/"
        },
        "outputId": "7abf1998-ddfe-4642-f603-894aebbd70c2"
      },
      "execution_count": null,
      "outputs": [
        {
          "output_type": "stream",
          "name": "stdout",
          "text": [
            "Model: \"sequential_1\"\n",
            "_________________________________________________________________\n",
            " Layer (type)                Output Shape              Param #   \n",
            "=================================================================\n",
            " simple_rnn_1 (SimpleRNN)    (None, 5, 20)             80880     \n",
            "                                                                 \n",
            " simple_rnn_2 (SimpleRNN)    (None, 5, 20)             820       \n",
            "                                                                 \n",
            " simple_rnn_3 (SimpleRNN)    (None, 1)                 22        \n",
            "                                                                 \n",
            "=================================================================\n",
            "Total params: 81,722\n",
            "Trainable params: 81,722\n",
            "Non-trainable params: 0\n",
            "_________________________________________________________________\n"
          ]
        }
      ]
    },
    {
      "cell_type": "code",
      "source": [
        "Deep_RNN.compile(loss=\"mse\", optimizer=\"adam\")\n",
        "history_Deep_RNN = Deep_RNN.fit(X_train, y_train, epochs=3,\n",
        "                    validation_data=(X_test, y_test)) "
      ],
      "metadata": {
        "id": "gd1dwwLT6ili",
        "colab": {
          "base_uri": "https://localhost:8080/"
        },
        "outputId": "6354cbc4-adb0-4aa5-c46f-daac2cb7fac3"
      },
      "execution_count": null,
      "outputs": [
        {
          "output_type": "stream",
          "name": "stdout",
          "text": [
            "Epoch 1/50\n",
            "581/581 [==============================] - 15s 22ms/step - loss: 0.0510 - val_loss: 0.0429\n",
            "Epoch 2/50\n",
            "581/581 [==============================] - 12s 21ms/step - loss: 0.0341 - val_loss: 0.0440\n",
            "Epoch 3/50\n",
            "581/581 [==============================] - 12s 21ms/step - loss: 0.0260 - val_loss: 0.0469\n",
            "Epoch 4/50\n",
            "581/581 [==============================] - 12s 21ms/step - loss: 0.0193 - val_loss: 0.0526\n",
            "Epoch 5/50\n",
            "581/581 [==============================] - 12s 21ms/step - loss: 0.0141 - val_loss: 0.0537\n",
            "Epoch 6/50\n",
            "581/581 [==============================] - 13s 22ms/step - loss: 0.0104 - val_loss: 0.0565\n",
            "Epoch 7/50\n",
            "581/581 [==============================] - 12s 21ms/step - loss: 0.0079 - val_loss: 0.0579\n",
            "Epoch 8/50\n",
            "581/581 [==============================] - 12s 21ms/step - loss: 0.0065 - val_loss: 0.0590\n",
            "Epoch 9/50\n",
            "581/581 [==============================] - 12s 21ms/step - loss: 0.0057 - val_loss: 0.0582\n",
            "Epoch 10/50\n",
            "581/581 [==============================] - 12s 21ms/step - loss: 0.0049 - val_loss: 0.0580\n",
            "Epoch 11/50\n",
            "581/581 [==============================] - 12s 21ms/step - loss: 0.0042 - val_loss: 0.0575\n",
            "Epoch 12/50\n",
            "581/581 [==============================] - 12s 21ms/step - loss: 0.0039 - val_loss: 0.0572\n",
            "Epoch 13/50\n",
            "581/581 [==============================] - 12s 21ms/step - loss: 0.0034 - val_loss: 0.0566\n",
            "Epoch 14/50\n",
            "581/581 [==============================] - 12s 21ms/step - loss: 0.0030 - val_loss: 0.0550\n",
            "Epoch 15/50\n",
            "581/581 [==============================] - 12s 21ms/step - loss: 0.0027 - val_loss: 0.0556\n",
            "Epoch 16/50\n",
            "581/581 [==============================] - 12s 21ms/step - loss: 0.0025 - val_loss: 0.0562\n",
            "Epoch 17/50\n",
            "581/581 [==============================] - 12s 21ms/step - loss: 0.0024 - val_loss: 0.0548\n",
            "Epoch 18/50\n",
            "581/581 [==============================] - 12s 21ms/step - loss: 0.0023 - val_loss: 0.0541\n",
            "Epoch 19/50\n",
            "581/581 [==============================] - 12s 21ms/step - loss: 0.0020 - val_loss: 0.0581\n",
            "Epoch 20/50\n",
            "581/581 [==============================] - 12s 21ms/step - loss: 0.0018 - val_loss: 0.0570\n",
            "Epoch 21/50\n",
            "581/581 [==============================] - 12s 21ms/step - loss: 0.0018 - val_loss: 0.0575\n",
            "Epoch 22/50\n",
            "581/581 [==============================] - 12s 21ms/step - loss: 0.0018 - val_loss: 0.0532\n",
            "Epoch 23/50\n",
            "581/581 [==============================] - 12s 21ms/step - loss: 0.0016 - val_loss: 0.0558\n",
            "Epoch 24/50\n",
            "581/581 [==============================] - 12s 21ms/step - loss: 0.0013 - val_loss: 0.0560\n",
            "Epoch 25/50\n",
            "581/581 [==============================] - 12s 21ms/step - loss: 0.0011 - val_loss: 0.0574\n",
            "Epoch 26/50\n",
            "581/581 [==============================] - 12s 21ms/step - loss: 0.0010 - val_loss: 0.0569\n",
            "Epoch 27/50\n",
            "581/581 [==============================] - 12s 21ms/step - loss: 9.5696e-04 - val_loss: 0.0583\n",
            "Epoch 28/50\n",
            "581/581 [==============================] - 12s 21ms/step - loss: 0.0011 - val_loss: 0.0550\n",
            "Epoch 29/50\n",
            "581/581 [==============================] - 12s 21ms/step - loss: 0.0015 - val_loss: 0.0611\n",
            "Epoch 30/50\n",
            "581/581 [==============================] - 12s 21ms/step - loss: 0.0015 - val_loss: 0.0581\n",
            "Epoch 31/50\n",
            "581/581 [==============================] - 12s 21ms/step - loss: 8.8219e-04 - val_loss: 0.0602\n",
            "Epoch 32/50\n",
            "581/581 [==============================] - 12s 21ms/step - loss: 6.8606e-04 - val_loss: 0.0560\n",
            "Epoch 33/50\n",
            "581/581 [==============================] - 12s 21ms/step - loss: 4.9762e-04 - val_loss: 0.0591\n",
            "Epoch 34/50\n",
            "581/581 [==============================] - 12s 21ms/step - loss: 4.0746e-04 - val_loss: 0.0570\n",
            "Epoch 35/50\n",
            "581/581 [==============================] - 12s 21ms/step - loss: 4.0806e-04 - val_loss: 0.0574\n",
            "Epoch 36/50\n",
            "581/581 [==============================] - 12s 21ms/step - loss: 4.8796e-04 - val_loss: 0.0562\n",
            "Epoch 37/50\n",
            "581/581 [==============================] - 12s 21ms/step - loss: 8.1214e-04 - val_loss: 0.0579\n",
            "Epoch 38/50\n",
            "581/581 [==============================] - 12s 21ms/step - loss: 0.0013 - val_loss: 0.0590\n",
            "Epoch 39/50\n",
            "581/581 [==============================] - 12s 21ms/step - loss: 0.0010 - val_loss: 0.0598\n",
            "Epoch 40/50\n",
            "581/581 [==============================] - 12s 21ms/step - loss: 5.5184e-04 - val_loss: 0.0569\n",
            "Epoch 41/50\n",
            "581/581 [==============================] - 12s 21ms/step - loss: 3.3252e-04 - val_loss: 0.0560\n",
            "Epoch 42/50\n",
            "581/581 [==============================] - 12s 21ms/step - loss: 1.9012e-04 - val_loss: 0.0564\n",
            "Epoch 43/50\n",
            "581/581 [==============================] - 12s 21ms/step - loss: 1.6776e-04 - val_loss: 0.0578\n",
            "Epoch 44/50\n",
            "581/581 [==============================] - 12s 21ms/step - loss: 1.8689e-04 - val_loss: 0.0589\n",
            "Epoch 45/50\n",
            "581/581 [==============================] - 12s 21ms/step - loss: 2.3273e-04 - val_loss: 0.0587\n",
            "Epoch 46/50\n",
            "581/581 [==============================] - 12s 21ms/step - loss: 7.4684e-04 - val_loss: 0.0652\n",
            "Epoch 47/50\n",
            "581/581 [==============================] - 12s 21ms/step - loss: 0.0013 - val_loss: 0.0572\n",
            "Epoch 48/50\n",
            "581/581 [==============================] - 12s 21ms/step - loss: 7.0389e-04 - val_loss: 0.0589\n",
            "Epoch 49/50\n",
            "581/581 [==============================] - 12s 21ms/step - loss: 3.3541e-04 - val_loss: 0.0580\n",
            "Epoch 50/50\n",
            "581/581 [==============================] - 12s 21ms/step - loss: 1.7586e-04 - val_loss: 0.0591\n"
          ]
        }
      ]
    },
    {
      "cell_type": "code",
      "source": [
        "Deep_RNN.evaluate(X_test, y_test) "
      ],
      "metadata": {
        "id": "gRxSHaOcmXbl",
        "colab": {
          "base_uri": "https://localhost:8080/"
        },
        "outputId": "cc77e8b9-eee7-4e23-cacf-5ea789ed9b7e"
      },
      "execution_count": null,
      "outputs": [
        {
          "output_type": "stream",
          "name": "stdout",
          "text": [
            "194/194 [==============================] - 1s 5ms/step - loss: 0.0591\n"
          ]
        },
        {
          "output_type": "execute_result",
          "data": {
            "text/plain": [
              "0.05909312143921852"
            ]
          },
          "metadata": {},
          "execution_count": 45
        }
      ]
    },
    {
      "cell_type": "code",
      "source": [
        "scores = Deep_RNN.evaluate(X_test, y_test, verbose=0)\n",
        "print(\"Accuracy: %.2f%%\" % (scores*100))"
      ],
      "metadata": {
        "id": "5XBjhlVikDN2",
        "colab": {
          "base_uri": "https://localhost:8080/"
        },
        "outputId": "c63976e5-5094-4f62-e55a-bab92ec62b22"
      },
      "execution_count": null,
      "outputs": [
        {
          "output_type": "stream",
          "name": "stdout",
          "text": [
            "Accuracy: 5.91%\n"
          ]
        }
      ]
    },
    {
      "cell_type": "code",
      "source": [
        "from sklearn import metrics\n",
        "from sklearn.metrics import r2_score\n",
        "from sklearn.metrics import mean_squared_error"
      ],
      "metadata": {
        "id": "w0GN7O7smXec"
      },
      "execution_count": null,
      "outputs": []
    },
    {
      "cell_type": "code",
      "source": [
        "# Error Metrics\n",
        "error_Training_Deep_RNN = mean_squared_error(y_train, Deep_RNN.predict(X_train))\n",
        "Deep_RNN_predicted = Deep_RNN.predict(X_test)\n",
        "error_Test_Deep_RNN = mean_squared_error(y_test,Deep_RNN_predicted)"
      ],
      "metadata": {
        "id": "imBOrxNomXgS"
      },
      "execution_count": null,
      "outputs": []
    },
    {
      "cell_type": "code",
      "source": [
        "rmse = metrics.mean_squared_error(y_test,Deep_RNN_predicted)\n",
        "print ('Root Mean Squared Error:',rmse)\n",
        "print('Accuracy rs : {}'.format(r2_score(y_test, Deep_RNN_predicted)))"
      ],
      "metadata": {
        "id": "IIbutJCAHQzt",
        "colab": {
          "base_uri": "https://localhost:8080/"
        },
        "outputId": "f8718c69-f409-4a00-974b-3254209fd5cc"
      },
      "execution_count": null,
      "outputs": [
        {
          "output_type": "stream",
          "name": "stdout",
          "text": [
            "Root Mean Squared Error: 0.05909311795482275\n",
            "Accuracy rs : -0.10900204594235463\n"
          ]
        }
      ]
    },
    {
      "cell_type": "code",
      "source": [
        "plt.plot(y_test_scaled, label = \"Actual\")\n",
        "plt.plot(Deep_RNN_predicted, label = \"Deep RNN\")\n",
        "plt.legend()\n",
        "plt.show()"
      ],
      "metadata": {
        "id": "sWmdHfanmwlT",
        "colab": {
          "base_uri": "https://localhost:8080/",
          "height": 265
        },
        "outputId": "980567c0-94ad-48a2-938e-0f242d56938f"
      },
      "execution_count": null,
      "outputs": [
        {
          "output_type": "display_data",
          "data": {
            "text/plain": [
              "<Figure size 432x288 with 1 Axes>"
            ],
            "image/png": "[encoded data removed]"
          },
          "metadata": {
            "needs_background": "light"
          }
        }
      ]
    },
    {
      "cell_type": "code",
      "source": [
        "import matplotlib as mpl\n",
        "def plot_learning_curves(loss, val_loss):\n",
        "    plt.plot(np.arange(len(loss)) + 0.5, loss, \"b.-\", label=\"Training loss\")\n",
        "    plt.plot(np.arange(len(val_loss)) + 1, val_loss, \"r.-\", label=\"Validation loss\")\n",
        "    plt.gca().xaxis.set_major_locator(mpl.ticker.MaxNLocator(integer=True))\n",
        "    plt.axis([1, 5, 0, 0.10])\n",
        "    plt.legend(fontsize=14)\n",
        "    plt.xlabel(\"Epochs\")\n",
        "    plt.ylabel(\"Loss\")\n",
        "    plt.grid(True)\n",
        "\n",
        "plot_learning_curves(history_Deep_RNN.history[\"loss\"], history_Deep_RNN.history[\"val_loss\"])\n",
        "plt.show()"
      ],
      "metadata": {
        "id": "UQBufZ9umwrz",
        "colab": {
          "base_uri": "https://localhost:8080/",
          "height": 283
        },
        "outputId": "310f569c-4fb9-4733-a0e9-7cc12a2c788f"
      },
      "execution_count": null,
      "outputs": [
        {
          "output_type": "display_data",
          "data": {
            "text/plain": [
              "<Figure size 432x288 with 1 Axes>"
            ],
            "image/png": "[encoded data removed]"
          },
          "metadata": {
            "needs_background": "light"
          }
        }
      ]
    },
    {
      "cell_type": "code",
      "source": [
        "X = pd.DataFrame(M)\n",
        "y = df['class'].astype(int)"
      ],
      "metadata": {
        "id": "i6ZU9l4bfdBj"
      },
      "execution_count": null,
      "outputs": []
    },
    {
      "cell_type": "code",
      "source": [
        "X_train, X_test, y_train, y_test = train_test_split(X, y, random_state=0)"
      ],
      "metadata": {
        "id": "fLy5snK2fdE4"
      },
      "execution_count": null,
      "outputs": []
    },
    {
      "cell_type": "code",
      "source": [
        "scaler = MinMaxScaler()\n",
        "X_train_scaled = scaler.fit_transform(X_train)\n",
        "X_test_scaled = scaler.fit_transform(X_test)\n",
        "y_train_scaled = scaler.fit_transform(y_train.values.reshape(-1,1))\n",
        "y_test_scaled = scaler.fit_transform(y_test.values.reshape(-1,1))"
      ],
      "metadata": {
        "id": "pGcThWejffza"
      },
      "execution_count": null,
      "outputs": []
    },
    {
      "cell_type": "code",
      "source": [
        "def create_CNN_Data(X_train_scaled, X_test_scaled, y_train_scaled, y_test_scaled, seq_len = 5):\n",
        "    y_train_CNN, y_test_CNN = np.array(y_train_scaled)[seq_len-1:], np.array(y_test_scaled)[seq_len-1:]\n",
        "    X_train_CNN = np.zeros((X_train_scaled.shape[0]+1-seq_len, seq_len, X_train_scaled.shape[1]))\n",
        "    X_test_CNN = np.zeros((X_test_scaled.shape[0]+1-seq_len, seq_len, X_test_scaled.shape[1]))\n",
        "    for i in range(seq_len):\n",
        "        X_train_CNN[:, i, :] = np.array(X_train_scaled)[i:X_train_scaled.shape[0]+i+1-seq_len, :]\n",
        "        X_test_CNN[:, i, :] = np.array(X_test_scaled)[i:X_test_scaled.shape[0]+i+1-seq_len, :]\n",
        "    return X_train_CNN, X_test_CNN, y_train_CNN, y_test_CNN"
      ],
      "metadata": {
        "id": "gjvpK6mgMPXV"
      },
      "execution_count": null,
      "outputs": []
    },
    {
      "cell_type": "code",
      "source": [
        "X_train_CNN, X_test_CNN, y_train_CNN, y_test_CNN = create_CNN_Data(X_train_scaled, X_test_scaled, y_train_scaled, y_test_scaled)"
      ],
      "metadata": {
        "id": "xrSnNNCDNSj9"
      },
      "execution_count": null,
      "outputs": []
    },
    {
      "cell_type": "code",
      "source": [
        "# LSTM and CNN for sequence classification in the dataset\n",
        "# create the model\n",
        "embedding_vecor_length = 32\n",
        "CNN = Sequential()\n",
        "CNN.add(Conv1D(filters=32, kernel_size=3, padding='same', activation='relu',input_shape=(5,4023)))\n",
        "CNN.add(MaxPooling1D(pool_size=2))\n",
        "CNN.add(LSTM(100))\n",
        "CNN.add(Dense(1, activation='sigmoid'))"
      ],
      "metadata": {
        "id": "YlQFgRaZMPZq"
      },
      "execution_count": null,
      "outputs": []
    },
    {
      "cell_type": "code",
      "source": [
        "CNN.compile(loss='binary_crossentropy', optimizer='adam', metrics=['accuracy'])\n",
        "print(CNN.summary())"
      ],
      "metadata": {
        "id": "POqtW1lJfwhe",
        "colab": {
          "base_uri": "https://localhost:8080/"
        },
        "outputId": "7e4c5a6d-632f-4e55-a3b0-d95efe58f19f"
      },
      "execution_count": null,
      "outputs": [
        {
          "output_type": "stream",
          "name": "stdout",
          "text": [
            "Model: \"sequential_2\"\n",
            "_________________________________________________________________\n",
            " Layer (type)                Output Shape              Param #   \n",
            "=================================================================\n",
            " conv1d (Conv1D)             (None, 5, 32)             386240    \n",
            "                                                                 \n",
            " max_pooling1d (MaxPooling1D  (None, 2, 32)            0         \n",
            " )                                                               \n",
            "                                                                 \n",
            " lstm (LSTM)                 (None, 100)               53200     \n",
            "                                                                 \n",
            " dense (Dense)               (None, 1)                 101       \n",
            "                                                                 \n",
            "=================================================================\n",
            "Total params: 439,541\n",
            "Trainable params: 439,541\n",
            "Non-trainable params: 0\n",
            "_________________________________________________________________\n",
            "None\n"
          ]
        }
      ]
    },
    {
      "cell_type": "code",
      "source": [
        "CNN.fit(X_train_CNN, y_train_CNN, epochs=3, batch_size=128)"
      ],
      "metadata": {
        "id": "rCD5k14df_Qd",
        "colab": {
          "base_uri": "https://localhost:8080/"
        },
        "outputId": "3fa30722-ffe9-4aba-a2f2-dafbfc61095b"
      },
      "execution_count": null,
      "outputs": [
        {
          "output_type": "stream",
          "name": "stdout",
          "text": [
            "Epoch 1/50\n",
            "146/146 [==============================] - 13s 8ms/step - loss: 0.6832 - accuracy: 0.1681\n",
            "Epoch 2/50\n",
            "146/146 [==============================] - 1s 8ms/step - loss: 0.6666 - accuracy: 0.1909\n",
            "Epoch 3/50\n",
            "146/146 [==============================] - 1s 8ms/step - loss: 0.6532 - accuracy: 0.2068\n",
            "Epoch 4/50\n",
            "146/146 [==============================] - 1s 9ms/step - loss: 0.6415 - accuracy: 0.2147\n",
            "Epoch 5/50\n",
            "146/146 [==============================] - 1s 8ms/step - loss: 0.6247 - accuracy: 0.2208\n",
            "Epoch 6/50\n",
            "146/146 [==============================] - 1s 8ms/step - loss: 0.6040 - accuracy: 0.2238\n",
            "Epoch 7/50\n",
            "146/146 [==============================] - 1s 8ms/step - loss: 0.5849 - accuracy: 0.2254\n",
            "Epoch 8/50\n",
            "146/146 [==============================] - 1s 8ms/step - loss: 0.5732 - accuracy: 0.2256\n",
            "Epoch 9/50\n",
            "146/146 [==============================] - 1s 8ms/step - loss: 0.5659 - accuracy: 0.2257\n",
            "Epoch 10/50\n",
            "146/146 [==============================] - 1s 8ms/step - loss: 0.5619 - accuracy: 0.2257\n",
            "Epoch 11/50\n",
            "146/146 [==============================] - 1s 8ms/step - loss: 0.5592 - accuracy: 0.2258\n",
            "Epoch 12/50\n",
            "146/146 [==============================] - 1s 8ms/step - loss: 0.5573 - accuracy: 0.2258\n",
            "Epoch 13/50\n",
            "146/146 [==============================] - 1s 8ms/step - loss: 0.5542 - accuracy: 0.2258\n",
            "Epoch 14/50\n",
            "146/146 [==============================] - 1s 8ms/step - loss: 0.5527 - accuracy: 0.2258\n",
            "Epoch 15/50\n",
            "146/146 [==============================] - 1s 8ms/step - loss: 0.5516 - accuracy: 0.2258\n",
            "Epoch 16/50\n",
            "146/146 [==============================] - 1s 8ms/step - loss: 0.5507 - accuracy: 0.2258\n",
            "Epoch 17/50\n",
            "146/146 [==============================] - 1s 8ms/step - loss: 0.5493 - accuracy: 0.2258\n",
            "Epoch 18/50\n",
            "146/146 [==============================] - 1s 8ms/step - loss: 0.5481 - accuracy: 0.2258\n",
            "Epoch 19/50\n",
            "146/146 [==============================] - 1s 8ms/step - loss: 0.5474 - accuracy: 0.2258\n",
            "Epoch 20/50\n",
            "146/146 [==============================] - 1s 8ms/step - loss: 0.5464 - accuracy: 0.2258\n",
            "Epoch 21/50\n",
            "146/146 [==============================] - 1s 8ms/step - loss: 0.5456 - accuracy: 0.2258\n",
            "Epoch 22/50\n",
            "146/146 [==============================] - 1s 8ms/step - loss: 0.5448 - accuracy: 0.2258\n",
            "Epoch 23/50\n",
            "146/146 [==============================] - 1s 8ms/step - loss: 0.5432 - accuracy: 0.2258\n",
            "Epoch 24/50\n",
            "146/146 [==============================] - 1s 8ms/step - loss: 0.5424 - accuracy: 0.2258\n",
            "Epoch 25/50\n",
            "146/146 [==============================] - 1s 8ms/step - loss: 0.5413 - accuracy: 0.2258\n",
            "Epoch 26/50\n",
            "146/146 [==============================] - 1s 8ms/step - loss: 0.5405 - accuracy: 0.2258\n",
            "Epoch 27/50\n",
            "146/146 [==============================] - 1s 8ms/step - loss: 0.5394 - accuracy: 0.2258\n",
            "Epoch 28/50\n",
            "146/146 [==============================] - 1s 8ms/step - loss: 0.5389 - accuracy: 0.2258\n",
            "Epoch 29/50\n",
            "146/146 [==============================] - 1s 8ms/step - loss: 0.5384 - accuracy: 0.2258\n",
            "Epoch 30/50\n",
            "146/146 [==============================] - 1s 8ms/step - loss: 0.5383 - accuracy: 0.2258\n",
            "Epoch 31/50\n",
            "146/146 [==============================] - 1s 8ms/step - loss: 0.5378 - accuracy: 0.2258\n",
            "Epoch 32/50\n",
            "146/146 [==============================] - 1s 8ms/step - loss: 0.5377 - accuracy: 0.2258\n",
            "Epoch 33/50\n",
            "146/146 [==============================] - 1s 8ms/step - loss: 0.5379 - accuracy: 0.2258\n",
            "Epoch 34/50\n",
            "146/146 [==============================] - 1s 8ms/step - loss: 0.5380 - accuracy: 0.2257\n",
            "Epoch 35/50\n",
            "146/146 [==============================] - 1s 8ms/step - loss: 0.5377 - accuracy: 0.2258\n",
            "Epoch 36/50\n",
            "146/146 [==============================] - 1s 8ms/step - loss: 0.5374 - accuracy: 0.2258\n",
            "Epoch 37/50\n",
            "146/146 [==============================] - 1s 8ms/step - loss: 0.5373 - accuracy: 0.2258\n",
            "Epoch 38/50\n",
            "146/146 [==============================] - 1s 8ms/step - loss: 0.5376 - accuracy: 0.2258\n",
            "Epoch 39/50\n",
            "146/146 [==============================] - 1s 8ms/step - loss: 0.5374 - accuracy: 0.2257\n",
            "Epoch 40/50\n",
            "146/146 [==============================] - 1s 8ms/step - loss: 0.5373 - accuracy: 0.2258\n",
            "Epoch 41/50\n",
            "146/146 [==============================] - 1s 9ms/step - loss: 0.5373 - accuracy: 0.2257\n",
            "Epoch 42/50\n",
            "146/146 [==============================] - 1s 8ms/step - loss: 0.5374 - accuracy: 0.2258\n",
            "Epoch 43/50\n",
            "146/146 [==============================] - 1s 8ms/step - loss: 0.5369 - accuracy: 0.2258\n",
            "Epoch 44/50\n",
            "146/146 [==============================] - 1s 8ms/step - loss: 0.5370 - accuracy: 0.2257\n",
            "Epoch 45/50\n",
            "146/146 [==============================] - 1s 8ms/step - loss: 0.5372 - accuracy: 0.2258\n",
            "Epoch 46/50\n",
            "146/146 [==============================] - 1s 8ms/step - loss: 0.5369 - accuracy: 0.2258\n",
            "Epoch 47/50\n",
            "146/146 [==============================] - 1s 8ms/step - loss: 0.5371 - accuracy: 0.2258\n",
            "Epoch 48/50\n",
            "146/146 [==============================] - 1s 8ms/step - loss: 0.5371 - accuracy: 0.2257\n",
            "Epoch 49/50\n",
            "146/146 [==============================] - 1s 8ms/step - loss: 0.5371 - accuracy: 0.2257\n",
            "Epoch 50/50\n",
            "146/146 [==============================] - 1s 8ms/step - loss: 0.5375 - accuracy: 0.2257\n"
          ]
        },
        {
          "output_type": "execute_result",
          "data": {
            "text/plain": [
              "<keras.callbacks.History at 0x7eff6cb8bf90>"
            ]
          },
          "metadata": {},
          "execution_count": 59
        }
      ]
    },
    {
      "cell_type": "code",
      "source": [
        "# Final evaluation of the model\n",
        "scores = CNN.evaluate(X_test_CNN, y_test_CNN, verbose=0)\n",
        "print(\"Accuracy: %.2f%%\" % (scores[1]*100))"
      ],
      "metadata": {
        "id": "7EIoPhAwfxgw",
        "colab": {
          "base_uri": "https://localhost:8080/"
        },
        "outputId": "ca8c7933-3dcc-4ef6-e9d2-7eb228082910"
      },
      "execution_count": null,
      "outputs": [
        {
          "output_type": "stream",
          "name": "stdout",
          "text": [
            "Accuracy: 14.95%\n"
          ]
        }
      ]
    }
  ]
}