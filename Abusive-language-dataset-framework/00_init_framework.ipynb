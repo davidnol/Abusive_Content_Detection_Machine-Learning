{
 "cells": [
  {
   "cell_type": "markdown",
   "metadata": {},
   "source": [
    "## Please run before using the other notebooks"
   ]
  },
  {
   "cell_type": "code",
   "execution_count": 1,
   "metadata": {},
   "outputs": [
    {
     "name": "stdout",
     "output_type": "stream",
     "text": [
      "Requirement already satisfied: numpy in /home/tobias/anaconda3/envs/biaspaper/lib/python3.7/site-packages (from -r requirements.txt (line 1)) (1.21.0)\n",
      "Requirement already satisfied: pandas in /home/tobias/anaconda3/envs/biaspaper/lib/python3.7/site-packages (from -r requirements.txt (line 2)) (1.2.5)\n",
      "Requirement already satisfied: shap in /home/tobias/anaconda3/envs/biaspaper/lib/python3.7/site-packages (from -r requirements.txt (line 3)) (0.39.0)\n",
      "Requirement already satisfied: matplotlib==3.1.1 in /home/tobias/anaconda3/envs/biaspaper/lib/python3.7/site-packages (from -r requirements.txt (line 4)) (3.1.1)\n",
      "Requirement already satisfied: nltk==3.4.5 in /home/tobias/anaconda3/envs/biaspaper/lib/python3.7/site-packages (from -r requirements.txt (line 5)) (3.4.5)\n",
      "Requirement already satisfied: gensim in /home/tobias/anaconda3/envs/biaspaper/lib/python3.7/site-packages (from -r requirements.txt (line 6)) (4.0.1)\n",
      "Requirement already satisfied: tweepy==3.8.0 in /home/tobias/anaconda3/envs/biaspaper/lib/python3.7/site-packages (from -r requirements.txt (line 7)) (3.8.0)\n",
      "Requirement already satisfied: adjustText==0.7.3 in /home/tobias/anaconda3/envs/biaspaper/lib/python3.7/site-packages (from -r requirements.txt (line 8)) (0.7.3)\n",
      "Requirement already satisfied: fasttext==0.9.2 in /home/tobias/anaconda3/envs/biaspaper/lib/python3.7/site-packages (from -r requirements.txt (line 9)) (0.9.2)\n",
      "Requirement already satisfied: seaborn==0.11.0 in /home/tobias/anaconda3/envs/biaspaper/lib/python3.7/site-packages (from -r requirements.txt (line 10)) (0.11.0)\n",
      "Requirement already satisfied: transformers==3.4.0 in /home/tobias/anaconda3/envs/biaspaper/lib/python3.7/site-packages (from -r requirements.txt (line 11)) (3.4.0)\n",
      "Requirement already satisfied: bson in /home/tobias/anaconda3/envs/biaspaper/lib/python3.7/site-packages (from -r requirements.txt (line 12)) (0.5.10)\n",
      "Requirement already satisfied: pymongo in /home/tobias/anaconda3/envs/biaspaper/lib/python3.7/site-packages (from -r requirements.txt (line 13)) (3.11.4)\n",
      "Requirement already satisfied: datasets in /home/tobias/anaconda3/envs/biaspaper/lib/python3.7/site-packages (from -r requirements.txt (line 14)) (1.8.0)\n",
      "Requirement already satisfied: pyjarowinkler in /home/tobias/anaconda3/envs/biaspaper/lib/python3.7/site-packages (from -r requirements.txt (line 15)) (1.8)\n",
      "Requirement already satisfied: slicer in /home/tobias/anaconda3/envs/biaspaper/lib/python3.7/site-packages (from -r requirements.txt (line 16)) (0.0.7)\n",
      "Requirement already satisfied: pyarabic in /home/tobias/anaconda3/envs/biaspaper/lib/python3.7/site-packages (from -r requirements.txt (line 17)) (0.6.10)\n",
      "Requirement already satisfied: cycler>=0.10 in /home/tobias/anaconda3/envs/biaspaper/lib/python3.7/site-packages (from matplotlib==3.1.1->-r requirements.txt (line 4)) (0.10.0)\n",
      "Requirement already satisfied: python-dateutil>=2.1 in /home/tobias/anaconda3/envs/biaspaper/lib/python3.7/site-packages (from matplotlib==3.1.1->-r requirements.txt (line 4)) (2.8.1)\n",
      "Requirement already satisfied: kiwisolver>=1.0.1 in /home/tobias/anaconda3/envs/biaspaper/lib/python3.7/site-packages (from matplotlib==3.1.1->-r requirements.txt (line 4)) (1.3.1)\n",
      "Requirement already satisfied: pyparsing!=2.0.4,!=2.1.2,!=2.1.6,>=2.0.1 in /home/tobias/anaconda3/envs/biaspaper/lib/python3.7/site-packages (from matplotlib==3.1.1->-r requirements.txt (line 4)) (2.4.7)\n",
      "Requirement already satisfied: six in /home/tobias/anaconda3/envs/biaspaper/lib/python3.7/site-packages (from nltk==3.4.5->-r requirements.txt (line 5)) (1.16.0)\n",
      "Requirement already satisfied: requests-oauthlib>=0.7.0 in /home/tobias/anaconda3/envs/biaspaper/lib/python3.7/site-packages (from tweepy==3.8.0->-r requirements.txt (line 7)) (1.3.0)\n",
      "Requirement already satisfied: PySocks>=1.5.7 in /home/tobias/anaconda3/envs/biaspaper/lib/python3.7/site-packages (from tweepy==3.8.0->-r requirements.txt (line 7)) (1.7.1)\n",
      "Requirement already satisfied: requests>=2.11.1 in /home/tobias/anaconda3/envs/biaspaper/lib/python3.7/site-packages (from tweepy==3.8.0->-r requirements.txt (line 7)) (2.25.1)\n",
      "Requirement already satisfied: pybind11>=2.2 in /home/tobias/anaconda3/envs/biaspaper/lib/python3.7/site-packages (from fasttext==0.9.2->-r requirements.txt (line 9)) (2.6.2)\n",
      "Requirement already satisfied: setuptools>=0.7.0 in /home/tobias/anaconda3/envs/biaspaper/lib/python3.7/site-packages (from fasttext==0.9.2->-r requirements.txt (line 9)) (52.0.0.post20210125)\n",
      "Requirement already satisfied: scipy>=1.0 in /home/tobias/anaconda3/envs/biaspaper/lib/python3.7/site-packages (from seaborn==0.11.0->-r requirements.txt (line 10)) (1.7.0)\n",
      "Requirement already satisfied: packaging in /home/tobias/anaconda3/envs/biaspaper/lib/python3.7/site-packages (from transformers==3.4.0->-r requirements.txt (line 11)) (20.9)\n",
      "Requirement already satisfied: sentencepiece!=0.1.92 in /home/tobias/anaconda3/envs/biaspaper/lib/python3.7/site-packages (from transformers==3.4.0->-r requirements.txt (line 11)) (0.1.96)\n",
      "Requirement already satisfied: filelock in /home/tobias/anaconda3/envs/biaspaper/lib/python3.7/site-packages (from transformers==3.4.0->-r requirements.txt (line 11)) (3.0.12)\n",
      "Requirement already satisfied: tokenizers==0.9.2 in /home/tobias/anaconda3/envs/biaspaper/lib/python3.7/site-packages (from transformers==3.4.0->-r requirements.txt (line 11)) (0.9.2)\n",
      "Requirement already satisfied: protobuf in /home/tobias/anaconda3/envs/biaspaper/lib/python3.7/site-packages (from transformers==3.4.0->-r requirements.txt (line 11)) (3.17.3)\n",
      "Requirement already satisfied: sacremoses in /home/tobias/anaconda3/envs/biaspaper/lib/python3.7/site-packages (from transformers==3.4.0->-r requirements.txt (line 11)) (0.0.45)\n",
      "Requirement already satisfied: tqdm>=4.27 in /home/tobias/anaconda3/envs/biaspaper/lib/python3.7/site-packages (from transformers==3.4.0->-r requirements.txt (line 11)) (4.49.0)\n",
      "Requirement already satisfied: regex!=2019.12.17 in /home/tobias/anaconda3/envs/biaspaper/lib/python3.7/site-packages (from transformers==3.4.0->-r requirements.txt (line 11)) (2021.4.4)\n",
      "Requirement already satisfied: pytz>=2017.3 in /home/tobias/anaconda3/envs/biaspaper/lib/python3.7/site-packages (from pandas->-r requirements.txt (line 2)) (2021.1)\n",
      "Requirement already satisfied: chardet<5,>=3.0.2 in /home/tobias/anaconda3/envs/biaspaper/lib/python3.7/site-packages (from requests>=2.11.1->tweepy==3.8.0->-r requirements.txt (line 7)) (4.0.0)\n",
      "Requirement already satisfied: idna<3,>=2.5 in /home/tobias/anaconda3/envs/biaspaper/lib/python3.7/site-packages (from requests>=2.11.1->tweepy==3.8.0->-r requirements.txt (line 7)) (2.10)\n",
      "Requirement already satisfied: urllib3<1.27,>=1.21.1 in /home/tobias/anaconda3/envs/biaspaper/lib/python3.7/site-packages (from requests>=2.11.1->tweepy==3.8.0->-r requirements.txt (line 7)) (1.26.5)\n",
      "Requirement already satisfied: certifi>=2017.4.17 in /home/tobias/anaconda3/envs/biaspaper/lib/python3.7/site-packages (from requests>=2.11.1->tweepy==3.8.0->-r requirements.txt (line 7)) (2021.5.30)\n",
      "Requirement already satisfied: oauthlib>=3.0.0 in /home/tobias/anaconda3/envs/biaspaper/lib/python3.7/site-packages (from requests-oauthlib>=0.7.0->tweepy==3.8.0->-r requirements.txt (line 7)) (3.1.1)\n",
      "Requirement already satisfied: numba in /home/tobias/anaconda3/envs/biaspaper/lib/python3.7/site-packages (from shap->-r requirements.txt (line 3)) (0.53.1)\n",
      "Requirement already satisfied: scikit-learn in /home/tobias/anaconda3/envs/biaspaper/lib/python3.7/site-packages (from shap->-r requirements.txt (line 3)) (0.24.2)\n",
      "Requirement already satisfied: cloudpickle in /home/tobias/anaconda3/envs/biaspaper/lib/python3.7/site-packages (from shap->-r requirements.txt (line 3)) (1.6.0)\n",
      "Requirement already satisfied: smart-open>=1.8.1 in /home/tobias/anaconda3/envs/biaspaper/lib/python3.7/site-packages (from gensim->-r requirements.txt (line 6)) (5.1.0)\n",
      "Requirement already satisfied: multiprocess in /home/tobias/anaconda3/envs/biaspaper/lib/python3.7/site-packages (from datasets->-r requirements.txt (line 14)) (0.70.12.2)\n",
      "Requirement already satisfied: importlib-metadata in /home/tobias/anaconda3/envs/biaspaper/lib/python3.7/site-packages (from datasets->-r requirements.txt (line 14)) (4.5.0)\n",
      "Requirement already satisfied: pyarrow<4.0.0,>=1.0.0 in /home/tobias/anaconda3/envs/biaspaper/lib/python3.7/site-packages (from datasets->-r requirements.txt (line 14)) (3.0.0)\n",
      "Requirement already satisfied: fsspec in /home/tobias/anaconda3/envs/biaspaper/lib/python3.7/site-packages (from datasets->-r requirements.txt (line 14)) (2021.6.1)\n",
      "Requirement already satisfied: huggingface-hub<0.1.0 in /home/tobias/anaconda3/envs/biaspaper/lib/python3.7/site-packages (from datasets->-r requirements.txt (line 14)) (0.0.12)\n",
      "Requirement already satisfied: xxhash in /home/tobias/anaconda3/envs/biaspaper/lib/python3.7/site-packages (from datasets->-r requirements.txt (line 14)) (2.0.2)\n",
      "Requirement already satisfied: dill in /home/tobias/anaconda3/envs/biaspaper/lib/python3.7/site-packages (from datasets->-r requirements.txt (line 14)) (0.3.4)\n",
      "Requirement already satisfied: typing-extensions in /home/tobias/anaconda3/envs/biaspaper/lib/python3.7/site-packages (from huggingface-hub<0.1.0->datasets->-r requirements.txt (line 14)) (3.10.0.0)\n"
     ]
    },
    {
     "name": "stdout",
     "output_type": "stream",
     "text": [
      "Requirement already satisfied: zipp>=0.5 in /home/tobias/anaconda3/envs/biaspaper/lib/python3.7/site-packages (from importlib-metadata->datasets->-r requirements.txt (line 14)) (3.4.1)\n",
      "Requirement already satisfied: llvmlite<0.37,>=0.36.0rc1 in /home/tobias/anaconda3/envs/biaspaper/lib/python3.7/site-packages (from numba->shap->-r requirements.txt (line 3)) (0.36.0)\n",
      "Requirement already satisfied: joblib in /home/tobias/anaconda3/envs/biaspaper/lib/python3.7/site-packages (from sacremoses->transformers==3.4.0->-r requirements.txt (line 11)) (1.0.1)\n",
      "Requirement already satisfied: click in /home/tobias/anaconda3/envs/biaspaper/lib/python3.7/site-packages (from sacremoses->transformers==3.4.0->-r requirements.txt (line 11)) (8.0.1)\n",
      "Requirement already satisfied: threadpoolctl>=2.0.0 in /home/tobias/anaconda3/envs/biaspaper/lib/python3.7/site-packages (from scikit-learn->shap->-r requirements.txt (line 3)) (2.1.0)\n"
     ]
    }
   ],
   "source": [
    "!pip install -r requirements.txt"
   ]
  },
  {
   "cell_type": "code",
   "execution_count": 2,
   "metadata": {},
   "outputs": [],
   "source": [
    "#!pip freeze > requirements_full.txt"
   ]
  },
  {
   "cell_type": "code",
   "execution_count": 3,
   "metadata": {},
   "outputs": [],
   "source": [
    "from pathlib import Path\n",
    "Path(\"./results\").mkdir(parents=True, exist_ok=True)\n",
    "Path(\"./tmp\").mkdir(parents=True, exist_ok=True)"
   ]
  },
  {
   "cell_type": "code",
   "execution_count": null,
   "metadata": {},
   "outputs": [],
   "source": []
  }
 ],
 "metadata": {
  "kernelspec": {
   "display_name": "Python 3",
   "language": "python",
   "name": "python3"
  },
  "language_info": {
   "codemirror_mode": {
    "name": "ipython",
    "version": 3
   },
   "file_extension": ".py",
   "mimetype": "text/x-python",
   "name": "python",
   "nbconvert_exporter": "python",
   "pygments_lexer": "ipython3",
   "version": "3.7.10"
  }
 },
 "nbformat": 4,
 "nbformat_minor": 4
}
