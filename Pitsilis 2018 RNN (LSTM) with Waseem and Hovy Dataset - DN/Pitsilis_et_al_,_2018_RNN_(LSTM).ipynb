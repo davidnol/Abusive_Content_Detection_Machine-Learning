{
  "nbformat": 4,
  "nbformat_minor": 0,
  "metadata": {
    "colab": {
      "name": "Pitsilis et al., 2018 - RNN (LSTM).ipynb",
      "provenance": [],
      "collapsed_sections": []
    },
    "kernelspec": {
      "name": "python3",
      "display_name": "Python 3"
    },
    "language_info": {
      "name": "python"
    }
  },
  "cells": [
    {
      "cell_type": "code",
      "source": [
        "!pip install vaderSentiment"
      ],
      "metadata": {
        "colab": {
          "base_uri": "https://localhost:8080/"
        },
        "id": "bkTP0fMCzosF",
        "outputId": "0d0bff5b-4993-4aad-85cd-83ba21095fb2"
      },
      "execution_count": 1,
      "outputs": [
        {
          "output_type": "stream",
          "name": "stdout",
          "text": [
            "Looking in indexes: https://pypi.org/simple, https://us-python.pkg.dev/colab-wheels/public/simple/\n",
            "Requirement already satisfied: vaderSentiment in /usr/local/lib/python3.7/dist-packages (3.3.2)\n",
            "Requirement already satisfied: requests in /usr/local/lib/python3.7/dist-packages (from vaderSentiment) (2.23.0)\n",
            "Requirement already satisfied: chardet<4,>=3.0.2 in /usr/local/lib/python3.7/dist-packages (from requests->vaderSentiment) (3.0.4)\n",
            "Requirement already satisfied: urllib3!=1.25.0,!=1.25.1,<1.26,>=1.21.1 in /usr/local/lib/python3.7/dist-packages (from requests->vaderSentiment) (1.24.3)\n",
            "Requirement already satisfied: certifi>=2017.4.17 in /usr/local/lib/python3.7/dist-packages (from requests->vaderSentiment) (2022.6.15)\n",
            "Requirement already satisfied: idna<3,>=2.5 in /usr/local/lib/python3.7/dist-packages (from requests->vaderSentiment) (2.10)\n"
          ]
        }
      ]
    },
    {
      "cell_type": "code",
      "source": [
        "!pip install textstat"
      ],
      "metadata": {
        "colab": {
          "base_uri": "https://localhost:8080/"
        },
        "id": "sosbGzKSzoxh",
        "outputId": "d0070a0b-1d0e-4dc0-82f9-7fc8f6f85d84"
      },
      "execution_count": 2,
      "outputs": [
        {
          "output_type": "stream",
          "name": "stdout",
          "text": [
            "Looking in indexes: https://pypi.org/simple, https://us-python.pkg.dev/colab-wheels/public/simple/\n",
            "Requirement already satisfied: textstat in /usr/local/lib/python3.7/dist-packages (0.7.3)\n",
            "Requirement already satisfied: pyphen in /usr/local/lib/python3.7/dist-packages (from textstat) (0.12.0)\n"
          ]
        }
      ]
    },
    {
      "cell_type": "code",
      "source": [
        "import pandas as pd\n",
        "import numpy as np\n",
        "import pickle\n",
        "import sys\n",
        "from sklearn.feature_extraction.text import TfidfVectorizer\n",
        "import nltk\n",
        "from nltk.stem.porter import *\n",
        "import string\n",
        "import re\n",
        "from vaderSentiment.vaderSentiment import SentimentIntensityAnalyzer as VS\n",
        "from textstat.textstat import *\n",
        "from sklearn.linear_model import LogisticRegression\n",
        "from sklearn import model_selection, naive_bayes, svm\n",
        "from sklearn.metrics import accuracy_score\n",
        "from sklearn.metrics import precision_score\n",
        "from sklearn.metrics import recall_score\n",
        "from sklearn.metrics import f1_score\n",
        "from sklearn.metrics import confusion_matrix\n",
        "import matplotlib.pyplot as plt\n",
        "import matplotlib as mpl\n",
        "import seaborn as sns\n",
        "from sklearn.feature_selection import SelectFromModel\n",
        "from sklearn.metrics import classification_report\n",
        "from sklearn.svm import LinearSVC\n",
        "from sklearn.base import TransformerMixin, BaseEstimator\n",
        "from statsmodels.tsa.seasonal import seasonal_decompose\n",
        "from sklearn.preprocessing import MinMaxScaler\n",
        "from sklearn import metrics\n",
        "from sklearn.metrics import r2_score\n",
        "from sklearn.metrics import mean_squared_error\n",
        "from sklearn.model_selection import train_test_split\n",
        "import matplotlib.pyplot as plt\n",
        "import seaborn\n",
        "from matplotlib import pyplot as plt\n",
        "%matplotlib inline\n",
        "import numpy\n",
        "from keras.models import Sequential\n",
        "from keras.layers import Dense\n",
        "from keras.layers import LSTM\n",
        "from keras.layers import Masking\n",
        "from keras.layers.convolutional import Conv1D\n",
        "from keras.layers.convolutional import MaxPooling1D\n",
        "from keras.layers.embeddings import Embedding\n",
        "from keras.preprocessing import sequence\n",
        "from keras.preprocessing.text import Tokenizer\n",
        "from keras.layers import Dense, Dropout, Activation\n",
        "from keras.layers import Embedding\n",
        "from keras.layers import Convolution1D, MaxPooling1D\n",
        "from keras.wrappers.scikit_learn import KerasClassifier\n",
        "from keras.regularizers import l2\n",
        "from tensorflow.keras.optimizers import SGD\n",
        "from keras.wrappers.scikit_learn import KerasRegressor\n",
        "import tensorflow as tf\n",
        "from tensorflow import keras\n",
        "np.random.seed(42)\n",
        "tf.random.set_seed(42)"
      ],
      "metadata": {
        "colab": {
          "base_uri": "https://localhost:8080/"
        },
        "id": "jPsXnOYszoz3",
        "outputId": "5ba08ef0-97c6-4bc3-b560-4e6d844c81fe"
      },
      "execution_count": 3,
      "outputs": [
        {
          "output_type": "stream",
          "name": "stderr",
          "text": [
            "/usr/local/lib/python3.7/dist-packages/statsmodels/tools/_testing.py:19: FutureWarning: pandas.util.testing is deprecated. Use the functions in the public API at pandas.testing instead.\n",
            "  import pandas.util.testing as tm\n"
          ]
        }
      ]
    },
    {
      "cell_type": "code",
      "source": [
        "nltk.download('stopwords')"
      ],
      "metadata": {
        "colab": {
          "base_uri": "https://localhost:8080/"
        },
        "id": "EsZ1_Kjk34UD",
        "outputId": "407305f7-705e-4294-eca5-de67136b72ce"
      },
      "execution_count": 4,
      "outputs": [
        {
          "output_type": "stream",
          "name": "stderr",
          "text": [
            "[nltk_data] Downloading package stopwords to /root/nltk_data...\n",
            "[nltk_data]   Package stopwords is already up-to-date!\n"
          ]
        },
        {
          "output_type": "execute_result",
          "data": {
            "text/plain": [
              "True"
            ]
          },
          "metadata": {},
          "execution_count": 4
        }
      ]
    },
    {
      "cell_type": "code",
      "source": [
        "nltk.download('averaged_perceptron_tagger')"
      ],
      "metadata": {
        "colab": {
          "base_uri": "https://localhost:8080/"
        },
        "id": "mM6jYjQN34bj",
        "outputId": "849c52e0-5ac6-4509-d689-d621842878f2"
      },
      "execution_count": 5,
      "outputs": [
        {
          "output_type": "stream",
          "name": "stderr",
          "text": [
            "[nltk_data] Downloading package averaged_perceptron_tagger to\n",
            "[nltk_data]     /root/nltk_data...\n",
            "[nltk_data]   Package averaged_perceptron_tagger is already up-to-\n",
            "[nltk_data]       date!\n"
          ]
        },
        {
          "output_type": "execute_result",
          "data": {
            "text/plain": [
              "True"
            ]
          },
          "metadata": {},
          "execution_count": 5
        }
      ]
    },
    {
      "cell_type": "code",
      "source": [
        "df = pd.read_csv(\"/content/sample_data/Racist_Sexist_Dataset.csv\")"
      ],
      "metadata": {
        "id": "QZfj7S2Fzo2N"
      },
      "execution_count": 6,
      "outputs": []
    },
    {
      "cell_type": "code",
      "source": [
        "df.head()"
      ],
      "metadata": {
        "colab": {
          "base_uri": "https://localhost:8080/",
          "height": 206
        },
        "id": "nVaibyhvzo4T",
        "outputId": "6d68b321-77ab-40aa-a8d1-30866eee4aa5"
      },
      "execution_count": 7,
      "outputs": [
        {
          "output_type": "execute_result",
          "data": {
            "text/plain": [
              "            ﻿id                                              tweet  class\n",
              "0  5.720000e+17  So Drasko just said he was impressed the girls...      1\n",
              "1  5.720000e+17  Drasko they didn&#39;t cook half a bird you id...      1\n",
              "2  5.720000e+17  Hopefully someone cooks Drasko in the next ep ...      1\n",
              "3  5.720000e+17  of course you were born in serbia...you&#39;re...      1\n",
              "4  5.720000e+17  These girls are the equivalent of the irritati...      1"
            ],
            "text/html": [
              "\n",
              "  <div id=\"df-de4c0705-85b1-4164-9e8f-891cc3c64098\">\n",
              "    <div class=\"colab-df-container\">\n",
              "      <div>\n",
              "<style scoped>\n",
              "    .dataframe tbody tr th:only-of-type {\n",
              "        vertical-align: middle;\n",
              "    }\n",
              "\n",
              "    .dataframe tbody tr th {\n",
              "        vertical-align: top;\n",
              "    }\n",
              "\n",
              "    .dataframe thead th {\n",
              "        text-align: right;\n",
              "    }\n",
              "</style>\n",
              "<table border=\"1\" class=\"dataframe\">\n",
              "  <thead>\n",
              "    <tr style=\"text-align: right;\">\n",
              "      <th></th>\n",
              "      <th>﻿id</th>\n",
              "      <th>tweet</th>\n",
              "      <th>class</th>\n",
              "    </tr>\n",
              "  </thead>\n",
              "  <tbody>\n",
              "    <tr>\n",
              "      <th>0</th>\n",
              "      <td>5.720000e+17</td>\n",
              "      <td>So Drasko just said he was impressed the girls...</td>\n",
              "      <td>1</td>\n",
              "    </tr>\n",
              "    <tr>\n",
              "      <th>1</th>\n",
              "      <td>5.720000e+17</td>\n",
              "      <td>Drasko they didn&amp;#39;t cook half a bird you id...</td>\n",
              "      <td>1</td>\n",
              "    </tr>\n",
              "    <tr>\n",
              "      <th>2</th>\n",
              "      <td>5.720000e+17</td>\n",
              "      <td>Hopefully someone cooks Drasko in the next ep ...</td>\n",
              "      <td>1</td>\n",
              "    </tr>\n",
              "    <tr>\n",
              "      <th>3</th>\n",
              "      <td>5.720000e+17</td>\n",
              "      <td>of course you were born in serbia...you&amp;#39;re...</td>\n",
              "      <td>1</td>\n",
              "    </tr>\n",
              "    <tr>\n",
              "      <th>4</th>\n",
              "      <td>5.720000e+17</td>\n",
              "      <td>These girls are the equivalent of the irritati...</td>\n",
              "      <td>1</td>\n",
              "    </tr>\n",
              "  </tbody>\n",
              "</table>\n",
              "</div>\n",
              "      <button class=\"colab-df-convert\" onclick=\"convertToInteractive('df-de4c0705-85b1-4164-9e8f-891cc3c64098')\"\n",
              "              title=\"Convert this dataframe to an interactive table.\"\n",
              "              style=\"display:none;\">\n",
              "        \n",
              "  <svg xmlns=\"http://www.w3.org/2000/svg\" height=\"24px\"viewBox=\"0 0 24 24\"\n",
              "       width=\"24px\">\n",
              "    <path d=\"M0 0h24v24H0V0z\" fill=\"none\"/>\n",
              "    <path d=\"M18.56 5.44l.94 2.06.94-2.06 2.06-.94-2.06-.94-.94-2.06-.94 2.06-2.06.94zm-11 1L8.5 8.5l.94-2.06 2.06-.94-2.06-.94L8.5 2.5l-.94 2.06-2.06.94zm10 10l.94 2.06.94-2.06 2.06-.94-2.06-.94-.94-2.06-.94 2.06-2.06.94z\"/><path d=\"M17.41 7.96l-1.37-1.37c-.4-.4-.92-.59-1.43-.59-.52 0-1.04.2-1.43.59L10.3 9.45l-7.72 7.72c-.78.78-.78 2.05 0 2.83L4 21.41c.39.39.9.59 1.41.59.51 0 1.02-.2 1.41-.59l7.78-7.78 2.81-2.81c.8-.78.8-2.07 0-2.86zM5.41 20L4 18.59l7.72-7.72 1.47 1.35L5.41 20z\"/>\n",
              "  </svg>\n",
              "      </button>\n",
              "      \n",
              "  <style>\n",
              "    .colab-df-container {\n",
              "      display:flex;\n",
              "      flex-wrap:wrap;\n",
              "      gap: 12px;\n",
              "    }\n",
              "\n",
              "    .colab-df-convert {\n",
              "      background-color: #E8F0FE;\n",
              "      border: none;\n",
              "      border-radius: 50%;\n",
              "      cursor: pointer;\n",
              "      display: none;\n",
              "      fill: #1967D2;\n",
              "      height: 32px;\n",
              "      padding: 0 0 0 0;\n",
              "      width: 32px;\n",
              "    }\n",
              "\n",
              "    .colab-df-convert:hover {\n",
              "      background-color: #E2EBFA;\n",
              "      box-shadow: 0px 1px 2px rgba(60, 64, 67, 0.3), 0px 1px 3px 1px rgba(60, 64, 67, 0.15);\n",
              "      fill: #174EA6;\n",
              "    }\n",
              "\n",
              "    [theme=dark] .colab-df-convert {\n",
              "      background-color: #3B4455;\n",
              "      fill: #D2E3FC;\n",
              "    }\n",
              "\n",
              "    [theme=dark] .colab-df-convert:hover {\n",
              "      background-color: #434B5C;\n",
              "      box-shadow: 0px 1px 3px 1px rgba(0, 0, 0, 0.15);\n",
              "      filter: drop-shadow(0px 1px 2px rgba(0, 0, 0, 0.3));\n",
              "      fill: #FFFFFF;\n",
              "    }\n",
              "  </style>\n",
              "\n",
              "      <script>\n",
              "        const buttonEl =\n",
              "          document.querySelector('#df-de4c0705-85b1-4164-9e8f-891cc3c64098 button.colab-df-convert');\n",
              "        buttonEl.style.display =\n",
              "          google.colab.kernel.accessAllowed ? 'block' : 'none';\n",
              "\n",
              "        async function convertToInteractive(key) {\n",
              "          const element = document.querySelector('#df-de4c0705-85b1-4164-9e8f-891cc3c64098');\n",
              "          const dataTable =\n",
              "            await google.colab.kernel.invokeFunction('convertToInteractive',\n",
              "                                                     [key], {});\n",
              "          if (!dataTable) return;\n",
              "\n",
              "          const docLinkHtml = 'Like what you see? Visit the ' +\n",
              "            '<a target=\"_blank\" href=https://colab.research.google.com/notebooks/data_table.ipynb>data table notebook</a>'\n",
              "            + ' to learn more about interactive tables.';\n",
              "          element.innerHTML = '';\n",
              "          dataTable['output_type'] = 'display_data';\n",
              "          await google.colab.output.renderOutput(dataTable, element);\n",
              "          const docLink = document.createElement('div');\n",
              "          docLink.innerHTML = docLinkHtml;\n",
              "          element.appendChild(docLink);\n",
              "        }\n",
              "      </script>\n",
              "    </div>\n",
              "  </div>\n",
              "  "
            ]
          },
          "metadata": {},
          "execution_count": 7
        }
      ]
    },
    {
      "cell_type": "code",
      "source": [
        "df.tail()"
      ],
      "metadata": {
        "colab": {
          "base_uri": "https://localhost:8080/",
          "height": 206
        },
        "id": "SRcE7fG_zo53",
        "outputId": "a29cf5d5-1b5a-48a8-91ea-5aa052028251"
      },
      "execution_count": 8,
      "outputs": [
        {
          "output_type": "execute_result",
          "data": {
            "text/plain": [
              "                ﻿id                                              tweet  class\n",
              "15943  5.760000e+17  credible reports that Iranian troops &amp; fig...      0\n",
              "15944  5.760000e+17  RT BillSpindle: It&#39;s all about power at th...      0\n",
              "15945  5.770000e+17  DEAR STATE DEPARTMENT: WHERE IS HILLARY CLINTO...      0\n",
              "15946  5.610000e+17  @panelrific: Let&#39;s go üêßüêßüêßüêßüêß...      0\n",
              "15947  5.690000e+17                        üòÇ http://t.co/VQzuAXqNzd      0"
            ],
            "text/html": [
              "\n",
              "  <div id=\"df-ad01e269-755e-448b-982b-82f9133e07e6\">\n",
              "    <div class=\"colab-df-container\">\n",
              "      <div>\n",
              "<style scoped>\n",
              "    .dataframe tbody tr th:only-of-type {\n",
              "        vertical-align: middle;\n",
              "    }\n",
              "\n",
              "    .dataframe tbody tr th {\n",
              "        vertical-align: top;\n",
              "    }\n",
              "\n",
              "    .dataframe thead th {\n",
              "        text-align: right;\n",
              "    }\n",
              "</style>\n",
              "<table border=\"1\" class=\"dataframe\">\n",
              "  <thead>\n",
              "    <tr style=\"text-align: right;\">\n",
              "      <th></th>\n",
              "      <th>﻿id</th>\n",
              "      <th>tweet</th>\n",
              "      <th>class</th>\n",
              "    </tr>\n",
              "  </thead>\n",
              "  <tbody>\n",
              "    <tr>\n",
              "      <th>15943</th>\n",
              "      <td>5.760000e+17</td>\n",
              "      <td>credible reports that Iranian troops &amp;amp; fig...</td>\n",
              "      <td>0</td>\n",
              "    </tr>\n",
              "    <tr>\n",
              "      <th>15944</th>\n",
              "      <td>5.760000e+17</td>\n",
              "      <td>RT BillSpindle: It&amp;#39;s all about power at th...</td>\n",
              "      <td>0</td>\n",
              "    </tr>\n",
              "    <tr>\n",
              "      <th>15945</th>\n",
              "      <td>5.770000e+17</td>\n",
              "      <td>DEAR STATE DEPARTMENT: WHERE IS HILLARY CLINTO...</td>\n",
              "      <td>0</td>\n",
              "    </tr>\n",
              "    <tr>\n",
              "      <th>15946</th>\n",
              "      <td>5.610000e+17</td>\n",
              "      <td>@panelrific: Let&amp;#39;s go üêßüêßüêßüêßüêß...</td>\n",
              "      <td>0</td>\n",
              "    </tr>\n",
              "    <tr>\n",
              "      <th>15947</th>\n",
              "      <td>5.690000e+17</td>\n",
              "      <td>üòÇ http://t.co/VQzuAXqNzd</td>\n",
              "      <td>0</td>\n",
              "    </tr>\n",
              "  </tbody>\n",
              "</table>\n",
              "</div>\n",
              "      <button class=\"colab-df-convert\" onclick=\"convertToInteractive('df-ad01e269-755e-448b-982b-82f9133e07e6')\"\n",
              "              title=\"Convert this dataframe to an interactive table.\"\n",
              "              style=\"display:none;\">\n",
              "        \n",
              "  <svg xmlns=\"http://www.w3.org/2000/svg\" height=\"24px\"viewBox=\"0 0 24 24\"\n",
              "       width=\"24px\">\n",
              "    <path d=\"M0 0h24v24H0V0z\" fill=\"none\"/>\n",
              "    <path d=\"M18.56 5.44l.94 2.06.94-2.06 2.06-.94-2.06-.94-.94-2.06-.94 2.06-2.06.94zm-11 1L8.5 8.5l.94-2.06 2.06-.94-2.06-.94L8.5 2.5l-.94 2.06-2.06.94zm10 10l.94 2.06.94-2.06 2.06-.94-2.06-.94-.94-2.06-.94 2.06-2.06.94z\"/><path d=\"M17.41 7.96l-1.37-1.37c-.4-.4-.92-.59-1.43-.59-.52 0-1.04.2-1.43.59L10.3 9.45l-7.72 7.72c-.78.78-.78 2.05 0 2.83L4 21.41c.39.39.9.59 1.41.59.51 0 1.02-.2 1.41-.59l7.78-7.78 2.81-2.81c.8-.78.8-2.07 0-2.86zM5.41 20L4 18.59l7.72-7.72 1.47 1.35L5.41 20z\"/>\n",
              "  </svg>\n",
              "      </button>\n",
              "      \n",
              "  <style>\n",
              "    .colab-df-container {\n",
              "      display:flex;\n",
              "      flex-wrap:wrap;\n",
              "      gap: 12px;\n",
              "    }\n",
              "\n",
              "    .colab-df-convert {\n",
              "      background-color: #E8F0FE;\n",
              "      border: none;\n",
              "      border-radius: 50%;\n",
              "      cursor: pointer;\n",
              "      display: none;\n",
              "      fill: #1967D2;\n",
              "      height: 32px;\n",
              "      padding: 0 0 0 0;\n",
              "      width: 32px;\n",
              "    }\n",
              "\n",
              "    .colab-df-convert:hover {\n",
              "      background-color: #E2EBFA;\n",
              "      box-shadow: 0px 1px 2px rgba(60, 64, 67, 0.3), 0px 1px 3px 1px rgba(60, 64, 67, 0.15);\n",
              "      fill: #174EA6;\n",
              "    }\n",
              "\n",
              "    [theme=dark] .colab-df-convert {\n",
              "      background-color: #3B4455;\n",
              "      fill: #D2E3FC;\n",
              "    }\n",
              "\n",
              "    [theme=dark] .colab-df-convert:hover {\n",
              "      background-color: #434B5C;\n",
              "      box-shadow: 0px 1px 3px 1px rgba(0, 0, 0, 0.15);\n",
              "      filter: drop-shadow(0px 1px 2px rgba(0, 0, 0, 0.3));\n",
              "      fill: #FFFFFF;\n",
              "    }\n",
              "  </style>\n",
              "\n",
              "      <script>\n",
              "        const buttonEl =\n",
              "          document.querySelector('#df-ad01e269-755e-448b-982b-82f9133e07e6 button.colab-df-convert');\n",
              "        buttonEl.style.display =\n",
              "          google.colab.kernel.accessAllowed ? 'block' : 'none';\n",
              "\n",
              "        async function convertToInteractive(key) {\n",
              "          const element = document.querySelector('#df-ad01e269-755e-448b-982b-82f9133e07e6');\n",
              "          const dataTable =\n",
              "            await google.colab.kernel.invokeFunction('convertToInteractive',\n",
              "                                                     [key], {});\n",
              "          if (!dataTable) return;\n",
              "\n",
              "          const docLinkHtml = 'Like what you see? Visit the ' +\n",
              "            '<a target=\"_blank\" href=https://colab.research.google.com/notebooks/data_table.ipynb>data table notebook</a>'\n",
              "            + ' to learn more about interactive tables.';\n",
              "          element.innerHTML = '';\n",
              "          dataTable['output_type'] = 'display_data';\n",
              "          await google.colab.output.renderOutput(dataTable, element);\n",
              "          const docLink = document.createElement('div');\n",
              "          docLink.innerHTML = docLinkHtml;\n",
              "          element.appendChild(docLink);\n",
              "        }\n",
              "      </script>\n",
              "    </div>\n",
              "  </div>\n",
              "  "
            ]
          },
          "metadata": {},
          "execution_count": 8
        }
      ]
    },
    {
      "cell_type": "code",
      "source": [
        "df.describe()"
      ],
      "metadata": {
        "colab": {
          "base_uri": "https://localhost:8080/",
          "height": 300
        },
        "id": "1iUkSIKnzo78",
        "outputId": "b9233144-38c8-4654-93b6-37b4a3a76f52"
      },
      "execution_count": 9,
      "outputs": [
        {
          "output_type": "execute_result",
          "data": {
            "text/plain": [
              "                ﻿id         class\n",
              "count  1.594800e+04  15948.000000\n",
              "mean   5.569026e+17      0.508904\n",
              "std    3.775839e+16      0.798888\n",
              "min    3.190000e+17      0.000000\n",
              "25%    5.630000e+17      0.000000\n",
              "50%    5.700000e+17      0.000000\n",
              "75%    5.750000e+17      1.000000\n",
              "max    6.850000e+17      2.000000"
            ],
            "text/html": [
              "\n",
              "  <div id=\"df-846707ca-74f5-4c71-8060-2b115ccea389\">\n",
              "    <div class=\"colab-df-container\">\n",
              "      <div>\n",
              "<style scoped>\n",
              "    .dataframe tbody tr th:only-of-type {\n",
              "        vertical-align: middle;\n",
              "    }\n",
              "\n",
              "    .dataframe tbody tr th {\n",
              "        vertical-align: top;\n",
              "    }\n",
              "\n",
              "    .dataframe thead th {\n",
              "        text-align: right;\n",
              "    }\n",
              "</style>\n",
              "<table border=\"1\" class=\"dataframe\">\n",
              "  <thead>\n",
              "    <tr style=\"text-align: right;\">\n",
              "      <th></th>\n",
              "      <th>﻿id</th>\n",
              "      <th>class</th>\n",
              "    </tr>\n",
              "  </thead>\n",
              "  <tbody>\n",
              "    <tr>\n",
              "      <th>count</th>\n",
              "      <td>1.594800e+04</td>\n",
              "      <td>15948.000000</td>\n",
              "    </tr>\n",
              "    <tr>\n",
              "      <th>mean</th>\n",
              "      <td>5.569026e+17</td>\n",
              "      <td>0.508904</td>\n",
              "    </tr>\n",
              "    <tr>\n",
              "      <th>std</th>\n",
              "      <td>3.775839e+16</td>\n",
              "      <td>0.798888</td>\n",
              "    </tr>\n",
              "    <tr>\n",
              "      <th>min</th>\n",
              "      <td>3.190000e+17</td>\n",
              "      <td>0.000000</td>\n",
              "    </tr>\n",
              "    <tr>\n",
              "      <th>25%</th>\n",
              "      <td>5.630000e+17</td>\n",
              "      <td>0.000000</td>\n",
              "    </tr>\n",
              "    <tr>\n",
              "      <th>50%</th>\n",
              "      <td>5.700000e+17</td>\n",
              "      <td>0.000000</td>\n",
              "    </tr>\n",
              "    <tr>\n",
              "      <th>75%</th>\n",
              "      <td>5.750000e+17</td>\n",
              "      <td>1.000000</td>\n",
              "    </tr>\n",
              "    <tr>\n",
              "      <th>max</th>\n",
              "      <td>6.850000e+17</td>\n",
              "      <td>2.000000</td>\n",
              "    </tr>\n",
              "  </tbody>\n",
              "</table>\n",
              "</div>\n",
              "      <button class=\"colab-df-convert\" onclick=\"convertToInteractive('df-846707ca-74f5-4c71-8060-2b115ccea389')\"\n",
              "              title=\"Convert this dataframe to an interactive table.\"\n",
              "              style=\"display:none;\">\n",
              "        \n",
              "  <svg xmlns=\"http://www.w3.org/2000/svg\" height=\"24px\"viewBox=\"0 0 24 24\"\n",
              "       width=\"24px\">\n",
              "    <path d=\"M0 0h24v24H0V0z\" fill=\"none\"/>\n",
              "    <path d=\"M18.56 5.44l.94 2.06.94-2.06 2.06-.94-2.06-.94-.94-2.06-.94 2.06-2.06.94zm-11 1L8.5 8.5l.94-2.06 2.06-.94-2.06-.94L8.5 2.5l-.94 2.06-2.06.94zm10 10l.94 2.06.94-2.06 2.06-.94-2.06-.94-.94-2.06-.94 2.06-2.06.94z\"/><path d=\"M17.41 7.96l-1.37-1.37c-.4-.4-.92-.59-1.43-.59-.52 0-1.04.2-1.43.59L10.3 9.45l-7.72 7.72c-.78.78-.78 2.05 0 2.83L4 21.41c.39.39.9.59 1.41.59.51 0 1.02-.2 1.41-.59l7.78-7.78 2.81-2.81c.8-.78.8-2.07 0-2.86zM5.41 20L4 18.59l7.72-7.72 1.47 1.35L5.41 20z\"/>\n",
              "  </svg>\n",
              "      </button>\n",
              "      \n",
              "  <style>\n",
              "    .colab-df-container {\n",
              "      display:flex;\n",
              "      flex-wrap:wrap;\n",
              "      gap: 12px;\n",
              "    }\n",
              "\n",
              "    .colab-df-convert {\n",
              "      background-color: #E8F0FE;\n",
              "      border: none;\n",
              "      border-radius: 50%;\n",
              "      cursor: pointer;\n",
              "      display: none;\n",
              "      fill: #1967D2;\n",
              "      height: 32px;\n",
              "      padding: 0 0 0 0;\n",
              "      width: 32px;\n",
              "    }\n",
              "\n",
              "    .colab-df-convert:hover {\n",
              "      background-color: #E2EBFA;\n",
              "      box-shadow: 0px 1px 2px rgba(60, 64, 67, 0.3), 0px 1px 3px 1px rgba(60, 64, 67, 0.15);\n",
              "      fill: #174EA6;\n",
              "    }\n",
              "\n",
              "    [theme=dark] .colab-df-convert {\n",
              "      background-color: #3B4455;\n",
              "      fill: #D2E3FC;\n",
              "    }\n",
              "\n",
              "    [theme=dark] .colab-df-convert:hover {\n",
              "      background-color: #434B5C;\n",
              "      box-shadow: 0px 1px 3px 1px rgba(0, 0, 0, 0.15);\n",
              "      filter: drop-shadow(0px 1px 2px rgba(0, 0, 0, 0.3));\n",
              "      fill: #FFFFFF;\n",
              "    }\n",
              "  </style>\n",
              "\n",
              "      <script>\n",
              "        const buttonEl =\n",
              "          document.querySelector('#df-846707ca-74f5-4c71-8060-2b115ccea389 button.colab-df-convert');\n",
              "        buttonEl.style.display =\n",
              "          google.colab.kernel.accessAllowed ? 'block' : 'none';\n",
              "\n",
              "        async function convertToInteractive(key) {\n",
              "          const element = document.querySelector('#df-846707ca-74f5-4c71-8060-2b115ccea389');\n",
              "          const dataTable =\n",
              "            await google.colab.kernel.invokeFunction('convertToInteractive',\n",
              "                                                     [key], {});\n",
              "          if (!dataTable) return;\n",
              "\n",
              "          const docLinkHtml = 'Like what you see? Visit the ' +\n",
              "            '<a target=\"_blank\" href=https://colab.research.google.com/notebooks/data_table.ipynb>data table notebook</a>'\n",
              "            + ' to learn more about interactive tables.';\n",
              "          element.innerHTML = '';\n",
              "          dataTable['output_type'] = 'display_data';\n",
              "          await google.colab.output.renderOutput(dataTable, element);\n",
              "          const docLink = document.createElement('div');\n",
              "          docLink.innerHTML = docLinkHtml;\n",
              "          element.appendChild(docLink);\n",
              "        }\n",
              "      </script>\n",
              "    </div>\n",
              "  </div>\n",
              "  "
            ]
          },
          "metadata": {},
          "execution_count": 9
        }
      ]
    },
    {
      "cell_type": "code",
      "source": [
        "df.columns"
      ],
      "metadata": {
        "colab": {
          "base_uri": "https://localhost:8080/"
        },
        "id": "8SfzWo1Mzo-S",
        "outputId": "ac22c14f-2ff6-461e-f448-8525ea5ce32c"
      },
      "execution_count": 10,
      "outputs": [
        {
          "output_type": "execute_result",
          "data": {
            "text/plain": [
              "Index(['﻿id', 'tweet', 'class'], dtype='object')"
            ]
          },
          "metadata": {},
          "execution_count": 10
        }
      ]
    },
    {
      "cell_type": "code",
      "source": [
        "df['class'].hist()"
      ],
      "metadata": {
        "colab": {
          "base_uri": "https://localhost:8080/",
          "height": 282
        },
        "id": "gb5NSK4i0c9U",
        "outputId": "560abb17-8526-4932-f201-f0eb9910c0c0"
      },
      "execution_count": 11,
      "outputs": [
        {
          "output_type": "execute_result",
          "data": {
            "text/plain": [
              "<matplotlib.axes._subplots.AxesSubplot at 0x7f53f03c55d0>"
            ]
          },
          "metadata": {},
          "execution_count": 11
        },
        {
          "output_type": "display_data",
          "data": {
            "text/plain": [
              "<Figure size 432x288 with 1 Axes>"
            ],
            "image/png": "[encoded data removed]"
          },
          "metadata": {
            "needs_background": "light"
          }
        }
      ]
    },
    {
      "cell_type": "code",
      "source": [
        "tweets=df.tweet"
      ],
      "metadata": {
        "id": "naIlpXC90dAL"
      },
      "execution_count": 12,
      "outputs": []
    },
    {
      "cell_type": "code",
      "source": [
        "nltk.download('averaged_perceptron_tagger')"
      ],
      "metadata": {
        "colab": {
          "base_uri": "https://localhost:8080/"
        },
        "id": "Fhkk3XZJ0dCw",
        "outputId": "ab1ce244-ca33-4531-a261-473e58aee51c"
      },
      "execution_count": 13,
      "outputs": [
        {
          "output_type": "stream",
          "name": "stderr",
          "text": [
            "[nltk_data] Downloading package averaged_perceptron_tagger to\n",
            "[nltk_data]     /root/nltk_data...\n",
            "[nltk_data]   Package averaged_perceptron_tagger is already up-to-\n",
            "[nltk_data]       date!\n"
          ]
        },
        {
          "output_type": "execute_result",
          "data": {
            "text/plain": [
              "True"
            ]
          },
          "metadata": {},
          "execution_count": 13
        }
      ]
    },
    {
      "cell_type": "markdown",
      "source": [
        "## Feature Generation"
      ],
      "metadata": {
        "id": "2nBeHVX41OnG"
      }
    },
    {
      "cell_type": "code",
      "source": [
        "stopwords=stopwords = nltk.corpus.stopwords.words(\"english\")\n",
        "\n",
        "other_exclusions = [\"#ff\", \"ff\", \"rt\"]\n",
        "stopwords.extend(other_exclusions)\n",
        "\n",
        "stemmer = PorterStemmer()\n",
        "\n",
        "\n",
        "def preprocess(text_string):\n",
        "    \"\"\"\n",
        "    Accepts a text string and replaces:\n",
        "    1) urls with URLHERE\n",
        "    2) lots of whitespace with one instance\n",
        "    3) mentions with MENTIONHERE\n",
        "\n",
        "    This allows us to get standardized counts of urls and mentions\n",
        "    Without caring about specific people mentioned\n",
        "    \"\"\"\n",
        "    space_pattern = '\\s+'\n",
        "    giant_url_regex = ('http[s]?://(?:[a-zA-Z]|[0-9]|[$-_@.&+]|'\n",
        "        '[!*\\(\\),]|(?:%[0-9a-fA-F][0-9a-fA-F]))+')\n",
        "    mention_regex = '@[\\w\\-]+'\n",
        "    parsed_text = re.sub(space_pattern, ' ', text_string)\n",
        "    parsed_text = re.sub(giant_url_regex, '', parsed_text)\n",
        "    parsed_text = re.sub(mention_regex, '', parsed_text)\n",
        "    return parsed_text\n",
        "\n",
        "def tokenize(tweet):\n",
        "    \"\"\"Removes punctuation & excess whitespace, sets to lowercase,\n",
        "    and stems tweets. Returns a list of stemmed tokens.\"\"\"\n",
        "    tweet = \" \".join(re.split(\"[^a-zA-Z]*\", tweet.lower())).strip()\n",
        "    tokens = [stemmer.stem(t) for t in tweet.split()]\n",
        "    return tokens\n",
        "\n",
        "def basic_tokenize(tweet):\n",
        "    \"\"\"Same as tokenize but without the stemming\"\"\"\n",
        "    tweet = \" \".join(re.split(\"[^a-zA-Z.,!?]*\", tweet.lower())).strip()\n",
        "    return tweet.split()\n",
        "\n",
        "vectorizer = TfidfVectorizer(\n",
        "    tokenizer=tokenize,\n",
        "    preprocessor=preprocess,\n",
        "    ngram_range=(1, 3),\n",
        "    stop_words=stopwords,\n",
        "    use_idf=True,\n",
        "    smooth_idf=False,\n",
        "    norm=None,\n",
        "    decode_error='replace',\n",
        "    max_features=10000,\n",
        "    min_df=5,\n",
        "    max_df=0.75\n",
        "    )"
      ],
      "metadata": {
        "id": "LCLrihKX0dE2"
      },
      "execution_count": 14,
      "outputs": []
    },
    {
      "cell_type": "code",
      "source": [
        "import warnings\n",
        "warnings.simplefilter(action='ignore', category=FutureWarning)"
      ],
      "metadata": {
        "id": "7Q53lh80zo_2"
      },
      "execution_count": 15,
      "outputs": []
    },
    {
      "cell_type": "code",
      "source": [
        "#Construct tfidf matrix and get relevant scores\n",
        "tfidf = vectorizer.fit_transform(tweets).toarray()\n",
        "vocab = {v:i for i, v in enumerate(vectorizer.get_feature_names())}\n",
        "idf_vals = vectorizer.idf_\n",
        "idf_dict = {i:idf_vals[i] for i in vocab.values()} #keys are indices; values are IDF scores"
      ],
      "metadata": {
        "colab": {
          "base_uri": "https://localhost:8080/"
        },
        "id": "_VcmKw4F0uAh",
        "outputId": "de28677f-007a-4fb4-b56f-31d32ea4360e"
      },
      "execution_count": 16,
      "outputs": [
        {
          "output_type": "stream",
          "name": "stderr",
          "text": [
            "/usr/local/lib/python3.7/dist-packages/sklearn/feature_extraction/text.py:401: UserWarning: Your stop_words may be inconsistent with your preprocessing. Tokenizing the stop words generated tokens ['b', 'c', 'e', 'f', 'g', 'h', 'j', 'l', 'n', 'p', 'r', 'u', 'v', 'w'] not in stop_words.\n",
            "  % sorted(inconsistent)\n"
          ]
        }
      ]
    },
    {
      "cell_type": "code",
      "source": [
        "#Get POS tags for tweets and save as a string\n",
        "tweet_tags = []\n",
        "for t in tweets:\n",
        "    tokens = basic_tokenize(preprocess(t))\n",
        "    tags = nltk.pos_tag(tokens)\n",
        "    tag_list = [x[1] for x in tags]\n",
        "    tag_str = \" \".join(tag_list)\n",
        "    tweet_tags.append(tag_str)"
      ],
      "metadata": {
        "id": "E9y7mPp90uFM"
      },
      "execution_count": 17,
      "outputs": []
    },
    {
      "cell_type": "code",
      "source": [
        "#We can use the TFIDF vectorizer to get a token matrix for the POS tags\n",
        "pos_vectorizer = TfidfVectorizer(\n",
        "    tokenizer=None,\n",
        "    lowercase=False,\n",
        "    preprocessor=None,\n",
        "    ngram_range=(1, 3),\n",
        "    stop_words=None,\n",
        "    use_idf=False,\n",
        "    smooth_idf=False,\n",
        "    norm=None,\n",
        "    decode_error='replace',\n",
        "    max_features=5000,\n",
        "    min_df=5,\n",
        "    max_df=0.75,\n",
        "    )"
      ],
      "metadata": {
        "id": "7w7YkKBc0uHR"
      },
      "execution_count": 18,
      "outputs": []
    },
    {
      "cell_type": "code",
      "source": [
        "#Construct POS TF matrix and get vocab dict\n",
        "pos = pos_vectorizer.fit_transform(pd.Series(tweet_tags)).toarray()\n",
        "pos_vocab = {v:i for i, v in enumerate(pos_vectorizer.get_feature_names())}"
      ],
      "metadata": {
        "id": "MXvpV7ZH0uJW"
      },
      "execution_count": 19,
      "outputs": []
    },
    {
      "cell_type": "code",
      "source": [
        "from vaderSentiment.vaderSentiment import SentimentIntensityAnalyzer as VS\n",
        "from textstat.textstat import *"
      ],
      "metadata": {
        "id": "xWNx3TDq02i5"
      },
      "execution_count": 20,
      "outputs": []
    },
    {
      "cell_type": "code",
      "source": [
        "from vaderSentiment.vaderSentiment import SentimentIntensityAnalyzer as VS\n",
        "#Now get other features\n",
        "sentiment_analyzer = VS()\n",
        "\n",
        "def count_twitter_objs(text_string):\n",
        "    \"\"\"\n",
        "    Accepts a text string and replaces:\n",
        "    1) urls with URLHERE\n",
        "    2) lots of whitespace with one instance\n",
        "    3) mentions with MENTIONHERE\n",
        "    4) hashtags with HASHTAGHERE\n",
        "\n",
        "    This allows us to get standardized counts of urls and mentions\n",
        "    Without caring about specific people mentioned.\n",
        "    \n",
        "    Returns counts of urls, mentions, and hashtags.\n",
        "    \"\"\"\n",
        "    space_pattern = '\\s+'\n",
        "    giant_url_regex = ('http[s]?://(?:[a-zA-Z]|[0-9]|[$-_@.&+]|'\n",
        "        '[!*\\(\\),]|(?:%[0-9a-fA-F][0-9a-fA-F]))+')\n",
        "    mention_regex = '@[\\w\\-]+'\n",
        "    hashtag_regex = '#[\\w\\-]+'\n",
        "    parsed_text = re.sub(space_pattern, ' ', text_string)\n",
        "    parsed_text = re.sub(giant_url_regex, 'URLHERE', parsed_text)\n",
        "    parsed_text = re.sub(mention_regex, 'MENTIONHERE', parsed_text)\n",
        "    parsed_text = re.sub(hashtag_regex, 'HASHTAGHERE', parsed_text)\n",
        "    return(parsed_text.count('URLHERE'),parsed_text.count('MENTIONHERE'),parsed_text.count('HASHTAGHERE'))\n",
        "\n",
        "def other_features(tweet):\n",
        "    \"\"\"This function takes a string and returns a list of features.\n",
        "    These include Sentiment scores, Text and Readability scores,\n",
        "    as well as Twitter specific features\"\"\"\n",
        "    sentiment = sentiment_analyzer.polarity_scores(tweet)\n",
        "    \n",
        "    words = preprocess(tweet) #Get text only\n",
        "    \n",
        "    syllables = textstat.syllable_count(words)\n",
        "    num_chars = sum(len(w) for w in words)\n",
        "    num_chars_total = len(tweet)\n",
        "    num_terms = len(tweet.split())\n",
        "    num_words = len(words.split())\n",
        "    avg_syl = round(float((syllables+0.001))/float(num_words+0.001),4)\n",
        "    num_unique_terms = len(set(words.split()))\n",
        "    \n",
        "    ###Modified FK grade, where avg words per sentence is just num words/1\n",
        "    FKRA = round(float(0.39 * float(num_words)/1.0) + float(11.8 * avg_syl) - 15.59,1)\n",
        "    ##Modified FRE score, where sentence fixed to 1\n",
        "    FRE = round(206.835 - 1.015*(float(num_words)/1.0) - (84.6*float(avg_syl)),2)\n",
        "    \n",
        "    twitter_objs = count_twitter_objs(tweet)\n",
        "    retweet = 0\n",
        "    if \"rt\" in words:\n",
        "        retweet = 1\n",
        "    features = [FKRA, FRE,syllables, avg_syl, num_chars, num_chars_total, num_terms, num_words,\n",
        "                num_unique_terms, sentiment['neg'], sentiment['pos'], sentiment['neu'], sentiment['compound'],\n",
        "                twitter_objs[2], twitter_objs[1],\n",
        "                twitter_objs[0], retweet]\n",
        "    #features = pandas.DataFrame(features)\n",
        "    return features\n",
        "\n",
        "def get_feature_array(tweets):\n",
        "    feats=[]\n",
        "    for t in tweets:\n",
        "        feats.append(other_features(t))\n",
        "    return np.array(feats)"
      ],
      "metadata": {
        "id": "K0Z2XiFR02lP"
      },
      "execution_count": 21,
      "outputs": []
    },
    {
      "cell_type": "code",
      "source": [
        "other_features_names = [\"FKRA\", \"FRE\",\"num_syllables\", \"avg_syl_per_word\", \"num_chars\", \"num_chars_total\", \\\n",
        "                        \"num_terms\", \"num_words\", \"num_unique_words\", \"vader neg\",\"vader pos\",\"vader neu\", \\\n",
        "                        \"vader compound\", \"num_hashtags\", \"num_mentions\", \"num_urls\", \"is_retweet\"]"
      ],
      "metadata": {
        "id": "7hK9vBXX02nT"
      },
      "execution_count": 22,
      "outputs": []
    },
    {
      "cell_type": "code",
      "source": [
        "feats = get_feature_array(tweets)"
      ],
      "metadata": {
        "id": "yWmeCB510uLu"
      },
      "execution_count": 23,
      "outputs": []
    },
    {
      "cell_type": "code",
      "source": [
        "#Now join them all up\n",
        "M = np.concatenate([tfidf,pos,feats],axis=1)"
      ],
      "metadata": {
        "id": "3fOlj_tX0uNy"
      },
      "execution_count": 24,
      "outputs": []
    },
    {
      "cell_type": "code",
      "source": [
        "M.shape"
      ],
      "metadata": {
        "colab": {
          "base_uri": "https://localhost:8080/"
        },
        "id": "7bZqZfm_1GEv",
        "outputId": "e656016d-ca0b-4ed2-c8a0-8527a02eea43"
      },
      "execution_count": 25,
      "outputs": [
        {
          "output_type": "execute_result",
          "data": {
            "text/plain": [
              "(15948, 3777)"
            ]
          },
          "metadata": {},
          "execution_count": 25
        }
      ]
    },
    {
      "cell_type": "code",
      "source": [
        "#Finally get a list of variable names\n",
        "variables = ['']*len(vocab)\n",
        "for k,v in vocab.items():\n",
        "    variables[v] = k\n",
        "\n",
        "pos_variables = ['']*len(pos_vocab)\n",
        "for k,v in pos_vocab.items():\n",
        "    pos_variables[v] = k\n",
        "\n",
        "feature_names = variables+pos_variables+other_features_names"
      ],
      "metadata": {
        "id": "3RYXyKlo1GHS"
      },
      "execution_count": 26,
      "outputs": []
    },
    {
      "cell_type": "markdown",
      "source": [
        "## Running the Model"
      ],
      "metadata": {
        "id": "Yrm7SsE718DV"
      }
    },
    {
      "cell_type": "code",
      "source": [
        "# Suppressing Warnings:\n",
        "import warnings\n",
        "warnings.filterwarnings(\"ignore\")"
      ],
      "metadata": {
        "id": "QUe7xN-A1GLu"
      },
      "execution_count": 27,
      "outputs": []
    },
    {
      "cell_type": "code",
      "source": [
        "X = pd.DataFrame(M)\n",
        "y = df['class'].astype(int)"
      ],
      "metadata": {
        "id": "lPUrXcYY1GOE"
      },
      "execution_count": 28,
      "outputs": []
    },
    {
      "cell_type": "code",
      "source": [
        "X_train, X_test, y_train, y_test = train_test_split(X, y, random_state=0)"
      ],
      "metadata": {
        "id": "T9HignmC1GQb"
      },
      "execution_count": 29,
      "outputs": []
    },
    {
      "cell_type": "code",
      "source": [
        "print(X_train.shape)\n",
        "print(X_test.shape)\n",
        "print(y_test.shape)\n",
        "print(y_train.shape)"
      ],
      "metadata": {
        "colab": {
          "base_uri": "https://localhost:8080/"
        },
        "id": "TUq8wX2y2EF8",
        "outputId": "e5aae3ab-5f57-474c-bd95-23b7c796e749"
      },
      "execution_count": 30,
      "outputs": [
        {
          "output_type": "stream",
          "name": "stdout",
          "text": [
            "(11961, 3777)\n",
            "(3987, 3777)\n",
            "(3987,)\n",
            "(11961,)\n"
          ]
        }
      ]
    },
    {
      "cell_type": "code",
      "source": [
        "X_train.fillna(method=\"pad\", inplace=True)\n",
        "X_test.fillna(method=\"pad\", inplace=True)\n",
        "y_train.fillna(method=\"pad\", inplace=True)\n",
        "y_test.fillna(method=\"pad\", inplace=True)"
      ],
      "metadata": {
        "id": "O3Ms1j0o2EIy"
      },
      "execution_count": 31,
      "outputs": []
    },
    {
      "cell_type": "code",
      "source": [
        "scaler = MinMaxScaler()\n",
        "X_train_scaled = scaler.fit_transform(X_train)\n",
        "X_test_scaled = scaler.fit_transform(X_test)\n",
        "y_train_scaled = scaler.fit_transform(y_train.values.reshape(-1,1))\n",
        "y_test_scaled = scaler.fit_transform(y_test.values.reshape(-1,1))"
      ],
      "metadata": {
        "id": "ahK57Dax2ELN"
      },
      "execution_count": 32,
      "outputs": []
    },
    {
      "cell_type": "code",
      "source": [
        " def create_RNN_Data(X_train_scaled, X_test_scaled, y_train_scaled, y_test_scaled, seq_len = 5):\n",
        "    y_train, y_test = np.array(y_train_scaled)[seq_len-1:], np.array(y_test_scaled)[seq_len-1:]\n",
        "    X_train = np.zeros((X_train_scaled.shape[0]+1-seq_len, seq_len, X_train_scaled.shape[1]))\n",
        "    X_test = np.zeros((X_test_scaled.shape[0]+1-seq_len, seq_len, X_test_scaled.shape[1]))\n",
        "    for i in range(seq_len):\n",
        "        X_train[:, i, :] = np.array(X_train_scaled)[i:X_train_scaled.shape[0]+i+1-seq_len, :]\n",
        "        X_test[:, i, :] = np.array(X_test_scaled)[i:X_test_scaled.shape[0]+i+1-seq_len, :]\n",
        "    return X_train, X_test, y_train, y_test"
      ],
      "metadata": {
        "id": "Y8dF0OqF2ENv"
      },
      "execution_count": 33,
      "outputs": []
    },
    {
      "cell_type": "code",
      "source": [
        "X_train, X_test, y_train, y_test = create_RNN_Data(X_train_scaled, X_test_scaled, y_train_scaled, y_test_scaled)"
      ],
      "metadata": {
        "id": "SoJsiuhk2ZOn"
      },
      "execution_count": 34,
      "outputs": []
    },
    {
      "cell_type": "code",
      "source": [
        "print(X_train.shape)\n",
        "print(X_test.shape)\n",
        "print(y_test.shape)\n",
        "print(y_train.shape)"
      ],
      "metadata": {
        "colab": {
          "base_uri": "https://localhost:8080/"
        },
        "id": "eJbsOssB2ZQ8",
        "outputId": "18c4fba7-3004-433d-bda0-9698099c26d5"
      },
      "execution_count": 35,
      "outputs": [
        {
          "output_type": "stream",
          "name": "stdout",
          "text": [
            "(11957, 5, 3777)\n",
            "(3983, 5, 3777)\n",
            "(3983, 1)\n",
            "(11957, 1)\n"
          ]
        }
      ]
    },
    {
      "cell_type": "code",
      "source": [
        "simple_RNN = keras.models.Sequential([\n",
        "    keras.layers.SimpleRNN(1, input_shape=[5, 3777])\n",
        "])\n",
        "\n",
        "optimizer = keras.optimizers.Adam(learning_rate=0.001)"
      ],
      "metadata": {
        "id": "VpWwxdlo2ZTS"
      },
      "execution_count": 36,
      "outputs": []
    },
    {
      "cell_type": "code",
      "source": [
        "simple_RNN.summary()"
      ],
      "metadata": {
        "colab": {
          "base_uri": "https://localhost:8080/"
        },
        "id": "vQbOag-H2ZVY",
        "outputId": "27be3e99-3b47-4bdf-b952-3cb7fc34f761"
      },
      "execution_count": 37,
      "outputs": [
        {
          "output_type": "stream",
          "name": "stdout",
          "text": [
            "Model: \"sequential\"\n",
            "_________________________________________________________________\n",
            " Layer (type)                Output Shape              Param #   \n",
            "=================================================================\n",
            " simple_rnn (SimpleRNN)      (None, 1)                 3779      \n",
            "                                                                 \n",
            "=================================================================\n",
            "Total params: 3,779\n",
            "Trainable params: 3,779\n",
            "Non-trainable params: 0\n",
            "_________________________________________________________________\n"
          ]
        }
      ]
    },
    {
      "cell_type": "code",
      "source": [
        "simple_RNN.compile(loss=\"mse\", optimizer=optimizer)\n",
        "history_simple_rnn = simple_RNN.fit(X_train, y_train, epochs=50,\n",
        "                    validation_data=(X_test, y_test))"
      ],
      "metadata": {
        "colab": {
          "base_uri": "https://localhost:8080/"
        },
        "id": "7DMubn-e2ZXt",
        "outputId": "a7ffa0de-c738-4c33-df1b-34d162a0a111"
      },
      "execution_count": 38,
      "outputs": [
        {
          "output_type": "stream",
          "name": "stdout",
          "text": [
            "Epoch 1/50\n",
            "374/374 [==============================] - 4s 8ms/step - loss: 0.1633 - val_loss: 0.1423\n",
            "Epoch 2/50\n",
            "374/374 [==============================] - 2s 6ms/step - loss: 0.1302 - val_loss: 0.1324\n",
            "Epoch 3/50\n",
            "374/374 [==============================] - 2s 6ms/step - loss: 0.1159 - val_loss: 0.1260\n",
            "Epoch 4/50\n",
            "374/374 [==============================] - 2s 6ms/step - loss: 0.1070 - val_loss: 0.1218\n",
            "Epoch 5/50\n",
            "374/374 [==============================] - 2s 6ms/step - loss: 0.1005 - val_loss: 0.1202\n",
            "Epoch 6/50\n",
            "374/374 [==============================] - 2s 6ms/step - loss: 0.0962 - val_loss: 0.1220\n",
            "Epoch 7/50\n",
            "374/374 [==============================] - 2s 6ms/step - loss: 0.0932 - val_loss: 0.1229\n",
            "Epoch 8/50\n",
            "374/374 [==============================] - 2s 6ms/step - loss: 0.0909 - val_loss: 0.1232\n",
            "Epoch 9/50\n",
            "374/374 [==============================] - 2s 7ms/step - loss: 0.0893 - val_loss: 0.1247\n",
            "Epoch 10/50\n",
            "374/374 [==============================] - 2s 6ms/step - loss: 0.0881 - val_loss: 0.1268\n",
            "Epoch 11/50\n",
            "374/374 [==============================] - 2s 6ms/step - loss: 0.0870 - val_loss: 0.1285\n",
            "Epoch 12/50\n",
            "374/374 [==============================] - 3s 7ms/step - loss: 0.0863 - val_loss: 0.1306\n",
            "Epoch 13/50\n",
            "374/374 [==============================] - 3s 8ms/step - loss: 0.0856 - val_loss: 0.1314\n",
            "Epoch 14/50\n",
            "374/374 [==============================] - 2s 6ms/step - loss: 0.0851 - val_loss: 0.1341\n",
            "Epoch 15/50\n",
            "374/374 [==============================] - 2s 6ms/step - loss: 0.0847 - val_loss: 0.1353\n",
            "Epoch 16/50\n",
            "374/374 [==============================] - 2s 6ms/step - loss: 0.0842 - val_loss: 0.1368\n",
            "Epoch 17/50\n",
            "374/374 [==============================] - 4s 11ms/step - loss: 0.0838 - val_loss: 0.1376\n",
            "Epoch 18/50\n",
            "374/374 [==============================] - 2s 6ms/step - loss: 0.0835 - val_loss: 0.1418\n",
            "Epoch 19/50\n",
            "374/374 [==============================] - 2s 6ms/step - loss: 0.0831 - val_loss: 0.1398\n",
            "Epoch 20/50\n",
            "374/374 [==============================] - 2s 6ms/step - loss: 0.0829 - val_loss: 0.1414\n",
            "Epoch 21/50\n",
            "374/374 [==============================] - 2s 6ms/step - loss: 0.0829 - val_loss: 0.1444\n",
            "Epoch 22/50\n",
            "374/374 [==============================] - 2s 6ms/step - loss: 0.0825 - val_loss: 0.1439\n",
            "Epoch 23/50\n",
            "374/374 [==============================] - 2s 6ms/step - loss: 0.0823 - val_loss: 0.1461\n",
            "Epoch 24/50\n",
            "374/374 [==============================] - 2s 6ms/step - loss: 0.0821 - val_loss: 0.1452\n",
            "Epoch 25/50\n",
            "374/374 [==============================] - 3s 8ms/step - loss: 0.0819 - val_loss: 0.1475\n",
            "Epoch 26/50\n",
            "374/374 [==============================] - 3s 8ms/step - loss: 0.0820 - val_loss: 0.1475\n",
            "Epoch 27/50\n",
            "374/374 [==============================] - 2s 6ms/step - loss: 0.0816 - val_loss: 0.1480\n",
            "Epoch 28/50\n",
            "374/374 [==============================] - 2s 6ms/step - loss: 0.0814 - val_loss: 0.1491\n",
            "Epoch 29/50\n",
            "374/374 [==============================] - 2s 6ms/step - loss: 0.0816 - val_loss: 0.1494\n",
            "Epoch 30/50\n",
            "374/374 [==============================] - 2s 7ms/step - loss: 0.0815 - val_loss: 0.1504\n",
            "Epoch 31/50\n",
            "374/374 [==============================] - 2s 6ms/step - loss: 0.0809 - val_loss: 0.1503\n",
            "Epoch 32/50\n",
            "374/374 [==============================] - 2s 7ms/step - loss: 0.0810 - val_loss: 0.1539\n",
            "Epoch 33/50\n",
            "374/374 [==============================] - 2s 6ms/step - loss: 0.0810 - val_loss: 0.1518\n",
            "Epoch 34/50\n",
            "374/374 [==============================] - 2s 6ms/step - loss: 0.0810 - val_loss: 0.1522\n",
            "Epoch 35/50\n",
            "374/374 [==============================] - 2s 7ms/step - loss: 0.0806 - val_loss: 0.1530\n",
            "Epoch 36/50\n",
            "374/374 [==============================] - 2s 6ms/step - loss: 0.0807 - val_loss: 0.1541\n",
            "Epoch 37/50\n",
            "374/374 [==============================] - 2s 6ms/step - loss: 0.0806 - val_loss: 0.1542\n",
            "Epoch 38/50\n",
            "374/374 [==============================] - 3s 7ms/step - loss: 0.0805 - val_loss: 0.1557\n",
            "Epoch 39/50\n",
            "374/374 [==============================] - 3s 7ms/step - loss: 0.0804 - val_loss: 0.1543\n",
            "Epoch 40/50\n",
            "374/374 [==============================] - 2s 6ms/step - loss: 0.0803 - val_loss: 0.1550\n",
            "Epoch 41/50\n",
            "374/374 [==============================] - 2s 6ms/step - loss: 0.0802 - val_loss: 0.1567\n",
            "Epoch 42/50\n",
            "374/374 [==============================] - 3s 7ms/step - loss: 0.0801 - val_loss: 0.1564\n",
            "Epoch 43/50\n",
            "374/374 [==============================] - 2s 6ms/step - loss: 0.0800 - val_loss: 0.1558\n",
            "Epoch 44/50\n",
            "374/374 [==============================] - 3s 7ms/step - loss: 0.0801 - val_loss: 0.1587\n",
            "Epoch 45/50\n",
            "374/374 [==============================] - 2s 6ms/step - loss: 0.0800 - val_loss: 0.1565\n",
            "Epoch 46/50\n",
            "374/374 [==============================] - 2s 6ms/step - loss: 0.0801 - val_loss: 0.1584\n",
            "Epoch 47/50\n",
            "374/374 [==============================] - 3s 7ms/step - loss: 0.0797 - val_loss: 0.1588\n",
            "Epoch 48/50\n",
            "374/374 [==============================] - 2s 6ms/step - loss: 0.0798 - val_loss: 0.1578\n",
            "Epoch 49/50\n",
            "374/374 [==============================] - 2s 6ms/step - loss: 0.0797 - val_loss: 0.1582\n",
            "Epoch 50/50\n",
            "374/374 [==============================] - 3s 7ms/step - loss: 0.0797 - val_loss: 0.1588\n"
          ]
        }
      ]
    },
    {
      "cell_type": "code",
      "source": [
        "# accuracy: (tp + tn) / (p + n)\n",
        "scores = simple_RNN.evaluate(X_test, y_test, verbose=0)\n",
        "print(\"Accuracy: %.2f%%\" % (scores*100))"
      ],
      "metadata": {
        "colab": {
          "base_uri": "https://localhost:8080/"
        },
        "id": "Zs0tHLhA2lVk",
        "outputId": "721c5419-5d3c-4073-b916-c6ac4a817661"
      },
      "execution_count": 39,
      "outputs": [
        {
          "output_type": "stream",
          "name": "stdout",
          "text": [
            "Accuracy: 15.88%\n"
          ]
        }
      ]
    },
    {
      "cell_type": "code",
      "source": [
        "# Error Metrics\n",
        "from sklearn.metrics import mean_squared_error\n",
        "error_Training_simple_RNN = mean_squared_error(y_train, simple_RNN.predict(X_train))\n",
        "simple_RNN_predicted = simple_RNN.predict(X_test)\n",
        "error_Test_simple_RNN = mean_squared_error(y_test,simple_RNN_predicted)"
      ],
      "metadata": {
        "id": "Px9EQRYC2lX6"
      },
      "execution_count": 40,
      "outputs": []
    },
    {
      "cell_type": "code",
      "source": [
        "rmse = metrics.mean_squared_error(y_test,simple_RNN_predicted)\n",
        "print ('Root Mean Squared Error:',rmse)\n",
        "print('Accuracy rs : {}'.format(r2_score(y_test, simple_RNN_predicted)))"
      ],
      "metadata": {
        "colab": {
          "base_uri": "https://localhost:8080/"
        },
        "id": "aQGMCcXn2lb0",
        "outputId": "62dbb8dc-22ce-4c7b-f0fb-8c841d171761"
      },
      "execution_count": 41,
      "outputs": [
        {
          "output_type": "stream",
          "name": "stdout",
          "text": [
            "Root Mean Squared Error: 0.15876463082940342\n",
            "Accuracy rs : -0.026939393062739958\n"
          ]
        }
      ]
    },
    {
      "cell_type": "code",
      "source": [
        "def plot_learning_curves(loss, val_loss):\n",
        "    plt.plot(np.arange(len(loss)) + 0.5, loss, \"b.-\", label=\"Training loss\")\n",
        "    plt.plot(np.arange(len(val_loss)) + 1, val_loss, \"r.-\", label=\"Validation loss\")\n",
        "    plt.gca().xaxis.set_major_locator(mpl.ticker.MaxNLocator(integer=True))\n",
        "    plt.axis([1, 10, 0, 0.20])\n",
        "    plt.legend(fontsize=14)\n",
        "    plt.xlabel(\"Epochs\")\n",
        "    plt.ylabel(\"Loss\")\n",
        "    plt.grid(True)\n",
        "\n",
        "plot_learning_curves(history_simple_rnn.history[\"loss\"], history_simple_rnn.history[\"val_loss\"])\n",
        "plt.show()"
      ],
      "metadata": {
        "colab": {
          "base_uri": "https://localhost:8080/",
          "height": 283
        },
        "id": "SzX2mtnu2q3g",
        "outputId": "69baebf8-f33d-4732-9beb-eff978174c7d"
      },
      "execution_count": 42,
      "outputs": [
        {
          "output_type": "display_data",
          "data": {
            "text/plain": [
              "<Figure size 432x288 with 1 Axes>"
            ],
            "image/png": "[encoded data removed]"
          },
          "metadata": {
            "needs_background": "light"
          }
        }
      ]
    },
    {
      "cell_type": "code",
      "source": [
        "Deep_RNN = keras.models.Sequential([\n",
        "    keras.layers.SimpleRNN(20, return_sequences=True, input_shape=[5,3777]),\n",
        "    keras.layers.SimpleRNN(20, return_sequences=True),\n",
        "    keras.layers.SimpleRNN(1)\n",
        "])"
      ],
      "metadata": {
        "id": "IwyG9PgL2w5N"
      },
      "execution_count": 43,
      "outputs": []
    },
    {
      "cell_type": "code",
      "source": [
        "Deep_RNN.summary()"
      ],
      "metadata": {
        "colab": {
          "base_uri": "https://localhost:8080/"
        },
        "id": "Mgvt2tmC2w7i",
        "outputId": "4885dee9-8d63-4deb-a1a4-387457a13c4f"
      },
      "execution_count": 44,
      "outputs": [
        {
          "output_type": "stream",
          "name": "stdout",
          "text": [
            "Model: \"sequential_1\"\n",
            "_________________________________________________________________\n",
            " Layer (type)                Output Shape              Param #   \n",
            "=================================================================\n",
            " simple_rnn_1 (SimpleRNN)    (None, 5, 20)             75960     \n",
            "                                                                 \n",
            " simple_rnn_2 (SimpleRNN)    (None, 5, 20)             820       \n",
            "                                                                 \n",
            " simple_rnn_3 (SimpleRNN)    (None, 1)                 22        \n",
            "                                                                 \n",
            "=================================================================\n",
            "Total params: 76,802\n",
            "Trainable params: 76,802\n",
            "Non-trainable params: 0\n",
            "_________________________________________________________________\n"
          ]
        }
      ]
    },
    {
      "cell_type": "code",
      "source": [
        "Deep_RNN.compile(loss=\"mse\", optimizer=\"adam\")\n",
        "history_Deep_RNN = Deep_RNN.fit(X_train, y_train, epochs=50,\n",
        "                    validation_data=(X_test, y_test)) "
      ],
      "metadata": {
        "colab": {
          "base_uri": "https://localhost:8080/"
        },
        "id": "xoBKy2cQ2w94",
        "outputId": "e1851308-6179-4d73-8850-e10e188a3ba1"
      },
      "execution_count": 45,
      "outputs": [
        {
          "output_type": "stream",
          "name": "stdout",
          "text": [
            "Epoch 1/50\n",
            "374/374 [==============================] - 7s 14ms/step - loss: 0.1520 - val_loss: 0.1235\n",
            "Epoch 2/50\n",
            "374/374 [==============================] - 5s 14ms/step - loss: 0.0932 - val_loss: 0.1287\n",
            "Epoch 3/50\n",
            "374/374 [==============================] - 5s 13ms/step - loss: 0.0650 - val_loss: 0.1510\n",
            "Epoch 4/50\n",
            "374/374 [==============================] - 5s 13ms/step - loss: 0.0432 - val_loss: 0.1532\n",
            "Epoch 5/50\n",
            "374/374 [==============================] - 5s 13ms/step - loss: 0.0301 - val_loss: 0.1676\n",
            "Epoch 6/50\n",
            "374/374 [==============================] - 5s 14ms/step - loss: 0.0216 - val_loss: 0.1692\n",
            "Epoch 7/50\n",
            "374/374 [==============================] - 7s 19ms/step - loss: 0.0169 - val_loss: 0.1772\n",
            "Epoch 8/50\n",
            "374/374 [==============================] - 5s 14ms/step - loss: 0.0143 - val_loss: 0.1791\n",
            "Epoch 9/50\n",
            "374/374 [==============================] - 5s 14ms/step - loss: 0.0133 - val_loss: 0.1772\n",
            "Epoch 10/50\n",
            "374/374 [==============================] - 5s 14ms/step - loss: 0.0113 - val_loss: 0.1740\n",
            "Epoch 11/50\n",
            "374/374 [==============================] - 5s 14ms/step - loss: 0.0097 - val_loss: 0.1728\n",
            "Epoch 12/50\n",
            "374/374 [==============================] - 5s 13ms/step - loss: 0.0087 - val_loss: 0.1778\n",
            "Epoch 13/50\n",
            "374/374 [==============================] - 5s 13ms/step - loss: 0.0080 - val_loss: 0.1792\n",
            "Epoch 14/50\n",
            "374/374 [==============================] - 5s 14ms/step - loss: 0.0078 - val_loss: 0.1733\n",
            "Epoch 15/50\n",
            "374/374 [==============================] - 5s 14ms/step - loss: 0.0080 - val_loss: 0.1782\n",
            "Epoch 16/50\n",
            "374/374 [==============================] - 5s 14ms/step - loss: 0.0073 - val_loss: 0.1701\n",
            "Epoch 17/50\n",
            "374/374 [==============================] - 5s 13ms/step - loss: 0.0066 - val_loss: 0.1690\n",
            "Epoch 18/50\n",
            "374/374 [==============================] - 5s 13ms/step - loss: 0.0063 - val_loss: 0.1779\n",
            "Epoch 19/50\n",
            "374/374 [==============================] - 5s 13ms/step - loss: 0.0063 - val_loss: 0.1687\n",
            "Epoch 20/50\n",
            "374/374 [==============================] - 6s 15ms/step - loss: 0.0061 - val_loss: 0.1741\n",
            "Epoch 21/50\n",
            "374/374 [==============================] - 5s 13ms/step - loss: 0.0059 - val_loss: 0.1682\n",
            "Epoch 22/50\n",
            "374/374 [==============================] - 5s 14ms/step - loss: 0.0056 - val_loss: 0.1764\n",
            "Epoch 23/50\n",
            "374/374 [==============================] - 5s 14ms/step - loss: 0.0052 - val_loss: 0.1717\n",
            "Epoch 24/50\n",
            "374/374 [==============================] - 5s 14ms/step - loss: 0.0052 - val_loss: 0.1679\n",
            "Epoch 25/50\n",
            "374/374 [==============================] - 5s 14ms/step - loss: 0.0047 - val_loss: 0.1693\n",
            "Epoch 26/50\n",
            "374/374 [==============================] - 5s 14ms/step - loss: 0.0046 - val_loss: 0.1667\n",
            "Epoch 27/50\n",
            "374/374 [==============================] - 5s 14ms/step - loss: 0.0043 - val_loss: 0.1699\n",
            "Epoch 28/50\n",
            "374/374 [==============================] - 5s 14ms/step - loss: 0.0041 - val_loss: 0.1699\n",
            "Epoch 29/50\n",
            "374/374 [==============================] - 5s 14ms/step - loss: 0.0038 - val_loss: 0.1721\n",
            "Epoch 30/50\n",
            "374/374 [==============================] - 7s 18ms/step - loss: 0.0038 - val_loss: 0.1639\n",
            "Epoch 31/50\n",
            "374/374 [==============================] - 5s 14ms/step - loss: 0.0037 - val_loss: 0.1737\n",
            "Epoch 32/50\n",
            "374/374 [==============================] - 5s 14ms/step - loss: 0.0033 - val_loss: 0.1706\n",
            "Epoch 33/50\n",
            "374/374 [==============================] - 5s 14ms/step - loss: 0.0032 - val_loss: 0.1731\n",
            "Epoch 34/50\n",
            "374/374 [==============================] - 5s 14ms/step - loss: 0.0030 - val_loss: 0.1689\n",
            "Epoch 35/50\n",
            "374/374 [==============================] - 5s 14ms/step - loss: 0.0030 - val_loss: 0.1641\n",
            "Epoch 36/50\n",
            "374/374 [==============================] - 5s 14ms/step - loss: 0.0028 - val_loss: 0.1623\n",
            "Epoch 37/50\n",
            "374/374 [==============================] - 5s 14ms/step - loss: 0.0026 - val_loss: 0.1711\n",
            "Epoch 38/50\n",
            "374/374 [==============================] - 5s 14ms/step - loss: 0.0024 - val_loss: 0.1698\n",
            "Epoch 39/50\n",
            "374/374 [==============================] - 5s 14ms/step - loss: 0.0023 - val_loss: 0.1648\n",
            "Epoch 40/50\n",
            "374/374 [==============================] - 5s 14ms/step - loss: 0.0021 - val_loss: 0.1655\n",
            "Epoch 41/50\n",
            "374/374 [==============================] - 5s 14ms/step - loss: 0.0021 - val_loss: 0.1778\n",
            "Epoch 42/50\n",
            "374/374 [==============================] - 5s 13ms/step - loss: 0.0022 - val_loss: 0.1716\n",
            "Epoch 43/50\n",
            "374/374 [==============================] - 5s 14ms/step - loss: 0.0026 - val_loss: 0.1674\n",
            "Epoch 44/50\n",
            "374/374 [==============================] - 5s 14ms/step - loss: 0.0022 - val_loss: 0.1786\n",
            "Epoch 45/50\n",
            "374/374 [==============================] - 5s 14ms/step - loss: 0.0017 - val_loss: 0.1693\n",
            "Epoch 46/50\n",
            "374/374 [==============================] - 5s 14ms/step - loss: 0.0014 - val_loss: 0.1765\n",
            "Epoch 47/50\n",
            "374/374 [==============================] - 5s 14ms/step - loss: 0.0014 - val_loss: 0.1711\n",
            "Epoch 48/50\n",
            "374/374 [==============================] - 5s 14ms/step - loss: 0.0014 - val_loss: 0.1687\n",
            "Epoch 49/50\n",
            "374/374 [==============================] - 5s 14ms/step - loss: 0.0015 - val_loss: 0.1681\n",
            "Epoch 50/50\n",
            "374/374 [==============================] - 5s 14ms/step - loss: 0.0015 - val_loss: 0.1750\n"
          ]
        }
      ]
    },
    {
      "cell_type": "code",
      "source": [
        "Deep_RNN.evaluate(X_test, y_test)"
      ],
      "metadata": {
        "colab": {
          "base_uri": "https://localhost:8080/"
        },
        "id": "ZkWnWZX32q6Y",
        "outputId": "6cc01662-6756-4950-9d48-743d4937335d"
      },
      "execution_count": 46,
      "outputs": [
        {
          "output_type": "stream",
          "name": "stdout",
          "text": [
            "125/125 [==============================] - 1s 6ms/step - loss: 0.1750\n"
          ]
        },
        {
          "output_type": "execute_result",
          "data": {
            "text/plain": [
              "0.17495635151863098"
            ]
          },
          "metadata": {},
          "execution_count": 46
        }
      ]
    },
    {
      "cell_type": "code",
      "source": [
        "scores = Deep_RNN.evaluate(X_test, y_test, verbose=0)\n",
        "print(\"Accuracy: %.2f%%\" % (scores*100))"
      ],
      "metadata": {
        "colab": {
          "base_uri": "https://localhost:8080/"
        },
        "id": "r9pC5UDu2q8c",
        "outputId": "e18a8e76-ebcb-4ecd-b920-e9b067c6afa1"
      },
      "execution_count": 47,
      "outputs": [
        {
          "output_type": "stream",
          "name": "stdout",
          "text": [
            "Accuracy: 17.50%\n"
          ]
        }
      ]
    },
    {
      "cell_type": "code",
      "source": [
        "from sklearn import metrics\n",
        "from sklearn.metrics import r2_score\n",
        "from sklearn.metrics import mean_squared_error"
      ],
      "metadata": {
        "id": "gmzCTG5a2ZZz"
      },
      "execution_count": 48,
      "outputs": []
    },
    {
      "cell_type": "code",
      "source": [
        "# Error Metrics\n",
        "error_Training_Deep_RNN = mean_squared_error(y_train, Deep_RNN.predict(X_train))\n",
        "Deep_RNN_predicted = Deep_RNN.predict(X_test)\n",
        "error_Test_Deep_RNN = mean_squared_error(y_test,Deep_RNN_predicted)"
      ],
      "metadata": {
        "id": "8DNUHSNZ2_sJ"
      },
      "execution_count": 49,
      "outputs": []
    },
    {
      "cell_type": "code",
      "source": [
        "rmse = metrics.mean_squared_error(y_test,Deep_RNN_predicted)\n",
        "print ('Root Mean Squared Error:',rmse)\n",
        "print('Accuracy rs : {}'.format(r2_score(y_test, Deep_RNN_predicted)))"
      ],
      "metadata": {
        "colab": {
          "base_uri": "https://localhost:8080/"
        },
        "id": "vRBcyEBq2_ut",
        "outputId": "b1620aa4-aaee-406a-8f3b-db9ac527d95f"
      },
      "execution_count": 50,
      "outputs": [
        {
          "output_type": "stream",
          "name": "stdout",
          "text": [
            "Root Mean Squared Error: 0.17495636116604588\n",
            "Accuracy rs : -0.13167257977870483\n"
          ]
        }
      ]
    },
    {
      "cell_type": "code",
      "source": [
        "plt.plot(y_test_scaled, label = \"Actual\")\n",
        "plt.plot(Deep_RNN_predicted, label = \"Deep RNN\")\n",
        "plt.legend()\n",
        "plt.show()"
      ],
      "metadata": {
        "colab": {
          "base_uri": "https://localhost:8080/",
          "height": 265
        },
        "id": "TnNLV7-y3ER4",
        "outputId": "aa949bc4-e4bd-4ab9-8148-f7ba3ff700fd"
      },
      "execution_count": 51,
      "outputs": [
        {
          "output_type": "display_data",
          "data": {
            "text/plain": [
              "<Figure size 432x288 with 1 Axes>"
            ],
            "image/png": "[encoded data removed]"
          },
          "metadata": {
            "needs_background": "light"
          }
        }
      ]
    },
    {
      "cell_type": "code",
      "source": [
        "import matplotlib as mpl\n",
        "def plot_learning_curves(loss, val_loss):\n",
        "    plt.plot(np.arange(len(loss)) + 0.5, loss, \"b.-\", label=\"Training loss\")\n",
        "    plt.plot(np.arange(len(val_loss)) + 1, val_loss, \"r.-\", label=\"Validation loss\")\n",
        "    plt.gca().xaxis.set_major_locator(mpl.ticker.MaxNLocator(integer=True))\n",
        "    plt.axis([1, 5, 0, 0.10])\n",
        "    plt.legend(fontsize=14)\n",
        "    plt.xlabel(\"Epochs\")\n",
        "    plt.ylabel(\"Loss\")\n",
        "    plt.grid(True)\n",
        "\n",
        "plot_learning_curves(history_Deep_RNN.history[\"loss\"], history_Deep_RNN.history[\"val_loss\"])\n",
        "plt.show()"
      ],
      "metadata": {
        "colab": {
          "base_uri": "https://localhost:8080/",
          "height": 283
        },
        "id": "WDfMhBER3EUN",
        "outputId": "7d9ebdae-4ffc-4426-f172-e5be4bfc8efc"
      },
      "execution_count": 52,
      "outputs": [
        {
          "output_type": "display_data",
          "data": {
            "text/plain": [
              "<Figure size 432x288 with 1 Axes>"
            ],
            "image/png": "[encoded data removed]"
          },
          "metadata": {
            "needs_background": "light"
          }
        }
      ]
    },
    {
      "cell_type": "code",
      "source": [
        "X = pd.DataFrame(M)\n",
        "y = df['class'].astype(int)"
      ],
      "metadata": {
        "id": "zbImAGqO2_yo"
      },
      "execution_count": 53,
      "outputs": []
    },
    {
      "cell_type": "code",
      "source": [
        "X_train, X_test, y_train, y_test = train_test_split(X, y, random_state=0)"
      ],
      "metadata": {
        "id": "OgQohXXa3JLM"
      },
      "execution_count": 54,
      "outputs": []
    },
    {
      "cell_type": "code",
      "source": [
        "scaler = MinMaxScaler()\n",
        "X_train_scaled = scaler.fit_transform(X_train)\n",
        "X_test_scaled = scaler.fit_transform(X_test)\n",
        "y_train_scaled = scaler.fit_transform(y_train.values.reshape(-1,1))\n",
        "y_test_scaled = scaler.fit_transform(y_test.values.reshape(-1,1))"
      ],
      "metadata": {
        "id": "PtdNm7Zi3JNg"
      },
      "execution_count": 55,
      "outputs": []
    },
    {
      "cell_type": "code",
      "source": [
        "def create_CNN_Data(X_train_scaled, X_test_scaled, y_train_scaled, y_test_scaled, seq_len = 5):\n",
        "    y_train_CNN, y_test_CNN = np.array(y_train_scaled)[seq_len-1:], np.array(y_test_scaled)[seq_len-1:]\n",
        "    X_train_CNN = np.zeros((X_train_scaled.shape[0]+1-seq_len, seq_len, X_train_scaled.shape[1]))\n",
        "    X_test_CNN = np.zeros((X_test_scaled.shape[0]+1-seq_len, seq_len, X_test_scaled.shape[1]))\n",
        "    for i in range(seq_len):\n",
        "        X_train_CNN[:, i, :] = np.array(X_train_scaled)[i:X_train_scaled.shape[0]+i+1-seq_len, :]\n",
        "        X_test_CNN[:, i, :] = np.array(X_test_scaled)[i:X_test_scaled.shape[0]+i+1-seq_len, :]\n",
        "    return X_train_CNN, X_test_CNN, y_train_CNN, y_test_CNN"
      ],
      "metadata": {
        "id": "WkIgH1-k3JPm"
      },
      "execution_count": 56,
      "outputs": []
    },
    {
      "cell_type": "code",
      "source": [
        "X_train_CNN, X_test_CNN, y_train_CNN, y_test_CNN = create_CNN_Data(X_train_scaled, X_test_scaled, y_train_scaled, y_test_scaled)"
      ],
      "metadata": {
        "id": "omsimX_q3XpA"
      },
      "execution_count": 57,
      "outputs": []
    },
    {
      "cell_type": "code",
      "source": [
        "# LSTM and CNN for sequence classification in the dataset\n",
        "# create the model\n",
        "embedding_vecor_length = 32\n",
        "CNN = Sequential()\n",
        "CNN.add(Conv1D(filters=32, kernel_size=3, padding='same', activation='relu',input_shape=(5,3777)))\n",
        "CNN.add(MaxPooling1D(pool_size=2))\n",
        "CNN.add(LSTM(100))\n",
        "CNN.add(Dense(1, activation='sigmoid'))"
      ],
      "metadata": {
        "id": "f3Hv3poi3Xrn"
      },
      "execution_count": 58,
      "outputs": []
    },
    {
      "cell_type": "code",
      "source": [
        "CNN.compile(loss='binary_crossentropy', optimizer='adam', metrics=['accuracy'])\n",
        "print(CNN.summary())"
      ],
      "metadata": {
        "colab": {
          "base_uri": "https://localhost:8080/"
        },
        "id": "zlvTRaGK3XuU",
        "outputId": "4ac7b790-dc25-457f-c1e5-722781d04023"
      },
      "execution_count": 59,
      "outputs": [
        {
          "output_type": "stream",
          "name": "stdout",
          "text": [
            "Model: \"sequential_2\"\n",
            "_________________________________________________________________\n",
            " Layer (type)                Output Shape              Param #   \n",
            "=================================================================\n",
            " conv1d (Conv1D)             (None, 5, 32)             362624    \n",
            "                                                                 \n",
            " max_pooling1d (MaxPooling1D  (None, 2, 32)            0         \n",
            " )                                                               \n",
            "                                                                 \n",
            " lstm (LSTM)                 (None, 100)               53200     \n",
            "                                                                 \n",
            " dense (Dense)               (None, 1)                 101       \n",
            "                                                                 \n",
            "=================================================================\n",
            "Total params: 415,925\n",
            "Trainable params: 415,925\n",
            "Non-trainable params: 0\n",
            "_________________________________________________________________\n",
            "None\n"
          ]
        }
      ]
    },
    {
      "cell_type": "code",
      "source": [
        "CNN.fit(X_train_CNN, y_train_CNN, epochs=50, batch_size=64)"
      ],
      "metadata": {
        "colab": {
          "base_uri": "https://localhost:8080/"
        },
        "id": "ZTOoe_XU3JRs",
        "outputId": "9cfc3109-5dcc-4b43-a8fa-41ed817647ca"
      },
      "execution_count": 60,
      "outputs": [
        {
          "output_type": "stream",
          "name": "stdout",
          "text": [
            "Epoch 1/50\n",
            "187/187 [==============================] - 14s 57ms/step - loss: 0.5750 - accuracy: 0.6797\n",
            "Epoch 2/50\n",
            "187/187 [==============================] - 6s 32ms/step - loss: 0.5307 - accuracy: 0.6850\n",
            "Epoch 3/50\n",
            "187/187 [==============================] - 6s 33ms/step - loss: 0.4242 - accuracy: 0.7395\n",
            "Epoch 4/50\n",
            "187/187 [==============================] - 6s 32ms/step - loss: 0.2889 - accuracy: 0.8141\n",
            "Epoch 5/50\n",
            "187/187 [==============================] - 6s 32ms/step - loss: 0.1969 - accuracy: 0.8551\n",
            "Epoch 6/50\n",
            "187/187 [==============================] - 6s 32ms/step - loss: 0.1597 - accuracy: 0.8708\n",
            "Epoch 7/50\n",
            "187/187 [==============================] - 6s 32ms/step - loss: 0.1519 - accuracy: 0.8754\n",
            "Epoch 8/50\n",
            "187/187 [==============================] - 6s 32ms/step - loss: 0.1316 - accuracy: 0.8777\n",
            "Epoch 9/50\n",
            "187/187 [==============================] - 6s 32ms/step - loss: 0.1251 - accuracy: 0.8784\n",
            "Epoch 10/50\n",
            "187/187 [==============================] - 6s 32ms/step - loss: 0.1236 - accuracy: 0.8785\n",
            "Epoch 11/50\n",
            "187/187 [==============================] - 6s 33ms/step - loss: 0.1203 - accuracy: 0.8786\n",
            "Epoch 12/50\n",
            "187/187 [==============================] - 6s 32ms/step - loss: 0.1162 - accuracy: 0.8785\n",
            "Epoch 13/50\n",
            "187/187 [==============================] - 6s 32ms/step - loss: 0.1160 - accuracy: 0.8786\n",
            "Epoch 14/50\n",
            "187/187 [==============================] - 6s 32ms/step - loss: 0.1113 - accuracy: 0.8786\n",
            "Epoch 15/50\n",
            "187/187 [==============================] - 6s 32ms/step - loss: 0.1082 - accuracy: 0.8786\n",
            "Epoch 16/50\n",
            "187/187 [==============================] - 6s 32ms/step - loss: 0.1072 - accuracy: 0.8786\n",
            "Epoch 17/50\n",
            "187/187 [==============================] - 6s 32ms/step - loss: 0.1014 - accuracy: 0.8786\n",
            "Epoch 18/50\n",
            "187/187 [==============================] - 6s 33ms/step - loss: 0.0989 - accuracy: 0.8786\n",
            "Epoch 19/50\n",
            "187/187 [==============================] - 6s 32ms/step - loss: 0.0959 - accuracy: 0.8786\n",
            "Epoch 20/50\n",
            "187/187 [==============================] - 8s 45ms/step - loss: 0.0937 - accuracy: 0.8786\n",
            "Epoch 21/50\n",
            "187/187 [==============================] - 6s 33ms/step - loss: 0.0922 - accuracy: 0.8786\n",
            "Epoch 22/50\n",
            "187/187 [==============================] - 6s 33ms/step - loss: 0.0904 - accuracy: 0.8786\n",
            "Epoch 23/50\n",
            "187/187 [==============================] - 6s 32ms/step - loss: 0.0891 - accuracy: 0.8786\n",
            "Epoch 24/50\n",
            "187/187 [==============================] - 6s 32ms/step - loss: 0.0880 - accuracy: 0.8786\n",
            "Epoch 25/50\n",
            "187/187 [==============================] - 6s 32ms/step - loss: 0.0873 - accuracy: 0.8786\n",
            "Epoch 26/50\n",
            "187/187 [==============================] - 6s 32ms/step - loss: 0.0867 - accuracy: 0.8786\n",
            "Epoch 27/50\n",
            "187/187 [==============================] - 6s 32ms/step - loss: 0.0861 - accuracy: 0.8786\n",
            "Epoch 28/50\n",
            "187/187 [==============================] - 6s 35ms/step - loss: 0.0857 - accuracy: 0.8786\n",
            "Epoch 29/50\n",
            "187/187 [==============================] - 6s 33ms/step - loss: 0.0858 - accuracy: 0.8786\n",
            "Epoch 30/50\n",
            "187/187 [==============================] - 6s 33ms/step - loss: 0.0853 - accuracy: 0.8786\n",
            "Epoch 31/50\n",
            "187/187 [==============================] - 6s 32ms/step - loss: 0.0852 - accuracy: 0.8786\n",
            "Epoch 32/50\n",
            "187/187 [==============================] - 6s 33ms/step - loss: 0.0851 - accuracy: 0.8786\n",
            "Epoch 33/50\n",
            "187/187 [==============================] - 6s 33ms/step - loss: 0.0850 - accuracy: 0.8786\n",
            "Epoch 34/50\n",
            "187/187 [==============================] - 6s 33ms/step - loss: 0.0849 - accuracy: 0.8786\n",
            "Epoch 35/50\n",
            "187/187 [==============================] - 6s 32ms/step - loss: 0.0846 - accuracy: 0.8786\n",
            "Epoch 36/50\n",
            "187/187 [==============================] - 6s 32ms/step - loss: 0.0844 - accuracy: 0.8786\n",
            "Epoch 37/50\n",
            "187/187 [==============================] - 6s 33ms/step - loss: 0.0843 - accuracy: 0.8786\n",
            "Epoch 38/50\n",
            "187/187 [==============================] - 6s 33ms/step - loss: 0.0844 - accuracy: 0.8786\n",
            "Epoch 39/50\n",
            "187/187 [==============================] - 8s 44ms/step - loss: 0.0844 - accuracy: 0.8786\n",
            "Epoch 40/50\n",
            "187/187 [==============================] - 6s 33ms/step - loss: 0.0844 - accuracy: 0.8786\n",
            "Epoch 41/50\n",
            "187/187 [==============================] - 6s 33ms/step - loss: 0.0849 - accuracy: 0.8786\n",
            "Epoch 42/50\n",
            "187/187 [==============================] - 6s 33ms/step - loss: 0.1200 - accuracy: 0.8712\n",
            "Epoch 43/50\n",
            "187/187 [==============================] - 6s 32ms/step - loss: 0.1310 - accuracy: 0.8694\n",
            "Epoch 44/50\n",
            "187/187 [==============================] - 6s 32ms/step - loss: 0.0951 - accuracy: 0.8765\n",
            "Epoch 45/50\n",
            "187/187 [==============================] - 6s 32ms/step - loss: 0.0884 - accuracy: 0.8781\n",
            "Epoch 46/50\n",
            "187/187 [==============================] - 6s 32ms/step - loss: 0.0854 - accuracy: 0.8786\n",
            "Epoch 47/50\n",
            "187/187 [==============================] - 6s 32ms/step - loss: 0.0849 - accuracy: 0.8786\n",
            "Epoch 48/50\n",
            "187/187 [==============================] - 6s 32ms/step - loss: 0.0848 - accuracy: 0.8786\n",
            "Epoch 49/50\n",
            "187/187 [==============================] - 6s 32ms/step - loss: 0.0847 - accuracy: 0.8786\n",
            "Epoch 50/50\n",
            "187/187 [==============================] - 6s 32ms/step - loss: 0.0846 - accuracy: 0.8786\n"
          ]
        },
        {
          "output_type": "execute_result",
          "data": {
            "text/plain": [
              "<keras.callbacks.History at 0x7f53e53a8ad0>"
            ]
          },
          "metadata": {},
          "execution_count": 60
        }
      ]
    }
  ]
}